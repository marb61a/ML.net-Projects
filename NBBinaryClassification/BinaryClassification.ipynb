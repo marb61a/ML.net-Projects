{
 "cells": [
  {
   "cell_type": "code",
   "execution_count": null,
   "metadata": {
    "dotnet_interactive": {
     "language": "csharp"
    },
    "vscode": {
     "languageId": "dotnet-interactive.csharp"
    }
   },
   "outputs": [
    {
     "data": {
      "text/html": [
       "<div><div></div><div></div><div><strong>Installed Packages</strong><ul><li><span>Microsoft.Data.Analysis, 0.20.0-preview.22313.1</span></li><li><span>Microsoft.DotNet.Interactive.ExtensionLab, 1.0.0-beta.22314.1</span></li><li><span>Microsoft.ML, 2.0.0-preview.22313.1</span></li></ul></div></div>"
      ]
     },
     "metadata": {},
     "output_type": "display_data"
    },
    {
     "data": {
      "text/markdown": [
       "Loading extensions from `Microsoft.Data.Analysis.Interactive.dll`"
      ]
     },
     "metadata": {},
     "output_type": "display_data"
    },
    {
     "data": {
      "text/markdown": [
       "Loading extensions from `Microsoft.DotNet.Interactive.ExtensionLab.dll`"
      ]
     },
     "metadata": {},
     "output_type": "display_data"
    },
    {
     "data": {
      "text/html": [
       "<details><summary>Create strongly-typed dataframes using<code>#!linqify</code>.</summary>\r\n",
       "    <p>The <code>#!linqify</code> magic command replaces a <a href=\"https://www.nuget.org/packages/Microsoft.Data.Analysis/\"><code>Microsoft.Data.Analysis.DataFrame</code></a> variable with a generated, strongly-typed data frame, allowing the use of LINQ operations over the contained data.</p>\r\n",
       "    </details>"
      ]
     },
     "metadata": {},
     "output_type": "display_data"
    },
    {
     "data": {
      "text/html": [
       "<details><summary>Inspect code compilation details using the <code>#!inspect</code> magic command.</summary>\r\n",
       "    <p>The <code>#!inspect</code> magic command allows you to see the C# decompilation, IL, and JIT Asm for the code in a C# cell.</p>\r\n",
       "    <img src=\"https://user-images.githubusercontent.com/547415/109560515-d5749a00-7a90-11eb-9fa3-51b737345bb4.png\" width=\"75%\" />\r\n",
       "    </details>"
      ]
     },
     "metadata": {},
     "output_type": "display_data"
    },
    {
     "data": {
      "text/html": [
       "<details><summary>Use the <code>#!record</code> magic command to keep a transcript of the code you run.</summary>\r\n",
       "    <p>Once you enable transcripts using <code>#!record</code>, each code submission (including re-running cells) is recorded in the specified file. The JSON format used is the same format recognized by the .NET Interactive <code>stdio</code> and <code>http</code> APIs and can be used to replay an interactive session via automation.</p>\r\n",
       "    <img src=\"https://user-images.githubusercontent.com/547415/109562409-343b1300-7a93-11eb-8ebf-79bb6af028cf.png\" width=\"75%\" />\r\n",
       "    </details>"
      ]
     },
     "metadata": {},
     "output_type": "display_data"
    },
    {
     "data": {
      "text/html": [
       "<details><summary>Query SQLite databases.</summary>\r\n",
       "    <p>This extension adds support for connecting to SQLite databases using the <code>#!connect sqlite</code> magic command. For more information, run a cell using the <code>#!sql</code> magic command.</p>\r\n",
       "    </details>"
      ]
     },
     "metadata": {},
     "output_type": "display_data"
    }
   ],
   "source": [
    "#r \"nuget:Microsoft.ML, *-*\"\n",
    "#r \"nuget:Microsoft.Data.Analysis, *-*\"\n",
    "#r \"nuget:Microsoft.DotNet.Interactive.ExtensionLab, *-*\""
   ]
  },
  {
   "cell_type": "code",
   "execution_count": null,
   "metadata": {
    "dotnet_interactive": {
     "language": "csharp"
    },
    "vscode": {
     "languageId": "dotnet-interactive.csharp"
    }
   },
   "outputs": [],
   "source": [
    "using Microsoft.ML;\n",
    "using Microsoft.ML.Data;\n",
    "using Microsoft.Data.Analysis;\n",
    "\n",
    "using System.IO;\n",
    "using System.Text;"
   ]
  },
  {
   "cell_type": "code",
   "execution_count": null,
   "metadata": {
    "dotnet_interactive": {
     "language": "csharp"
    },
    "vscode": {
     "languageId": "dotnet-interactive.csharp"
    }
   },
   "outputs": [],
   "source": [
    "public class PalmerPenguinBinaryData\n",
    "{\n",
    "    [LoadColumn(0)]\n",
    "    public bool Label { get; set; }\n",
    "\n",
    "    [LoadColumn(2)]\n",
    "    public float ColumnLength { get; set; }\n",
    "\n",
    "    [LoadColumn(3)]\n",
    "    public float ColumnDepth { get; set; }\n",
    "}\n",
    "\n",
    "public class PalmerPenguinPredictions\n",
    "{\n",
    "    public bool PredictedLabel { get; set; }\n",
    "}"
   ]
  },
  {
   "cell_type": "code",
   "execution_count": null,
   "metadata": {
    "dotnet_interactive": {
     "language": "csharp"
    },
    "vscode": {
     "languageId": "dotnet-interactive.csharp"
    }
   },
   "outputs": [],
   "source": [
    "var mlContext = new MLContext();\n",
    "var trainingDataView = mlContext.Data.LoadFromTextFile<PalmerPenguinBinaryData>(\"./Data/penguins_size_binary.csv\", hasHeader: true, separatorChar: ',');\n",
    "\n",
    "var dataSplit = mlContext.Data.TrainTestSplit(trainingDataView, testFraction: 0.3);"
   ]
  },
  {
   "cell_type": "code",
   "execution_count": null,
   "metadata": {
    "dotnet_interactive": {
     "language": "csharp"
    },
    "vscode": {
     "languageId": "dotnet-interactive.csharp"
    }
   },
   "outputs": [
    {
     "data": {
      "text/csv": [
       "Label,ColumnLength,ColumnDepth\r\n",
       "True,39.3,20.6\r\n",
       "True,38.9,17.8\r\n",
       "True,37.8,17.1\r\n",
       "True,34.4,18.4\r\n",
       "True,37.8,18.3\r\n",
       "True,37.9,18.6\r\n",
       "True,37.2,18.1\r\n",
       "True,39.5,17.8\r\n",
       "True,42.2,18.5\r\n",
       "True,36.5,18\r\n",
       "True,37,16.9\r\n",
       "True,39.6,18.8\r\n",
       "True,41.1,19\r\n",
       "True,36,17.9\r\n",
       "True,39.6,17.7\r\n",
       "True,40.1,18.9\r\n",
       "True,35.9,16.6\r\n",
       "True,39.7,18.4\r\n",
       "True,45.8,18.9\r\n",
       "True,40.9,16.8\r\n",
       "True,42.1,19.1\r\n",
       "True,41.1,18.1\r\n",
       "True,39.6,18.1\r\n",
       "True,38.1,18.6\r\n",
       "True,40.3,18.5\r\n",
       "True,43.2,18.5\r\n",
       "True,35,17.9\r\n",
       "True,37.9,18.6\r\n",
       "True,39.7,18.9\r\n",
       "True,45.6,20.3\r\n",
       "True,42.2,19.5\r\n",
       "True,36.2,17.2\r\n",
       "True,37.7,19.8\r\n",
       "True,40.2,17\r\n",
       "True,44.1,18\r\n",
       "True,36.8,18.5\r\n",
       "True,37.5,18.5\r\n",
       "True,40.2,20.1\r\n",
       "True,39,18.7\r\n",
       "True,36.6,18.4\r\n",
       "True,41.5,18.5\r\n",
       "False,46.5,17.9\r\n",
       "False,52.7,19.8\r\n",
       "False,51.3,19.9\r\n",
       "False,47,17.3\r\n",
       "False,58,17.8\r\n",
       "False,48.5,17.5\r\n",
       "False,43.2,16.6\r\n",
       "False,52,19\r\n",
       "False,46.4,17.8\r\n",
       "False,52.8,20\r\n",
       "False,47.5,16.8\r\n",
       "False,47.6,18.3\r\n",
       "False,52,20.7\r\n",
       "False,53.5,19.9\r\n",
       "False,49,19.6\r\n",
       "False,48.1,16.4\r\n",
       "False,50.7,19.7\r\n",
       "False,42.5,17.3\r\n",
       "False,45.6,19.4\r\n",
       "False,51.9,19.5\r\n",
       "False,43.5,18.1\r\n",
       "False,50.8,19\r\n",
       "False,45.4,14.6\r\n",
       "False,49.2,15.2\r\n",
       "False,46.5,14.5\r\n",
       "False,44.5,14.3\r\n",
       "False,47.8,15\r\n",
       "False,50,15.3\r\n",
       "False,45.1,14.5\r\n",
       "False,49.1,14.8\r\n",
       "False,48.7,15.7\r\n",
       "False,45.3,13.7\r\n",
       "False,44.9,13.3\r\n",
       "False,48.5,14.1\r\n",
       "False,45.1,14.4\r\n",
       "False,45,15.4\r\n",
       "False,43.8,13.9\r\n",
       "False,50.4,15.3\r\n",
       "False,45.3,13.8\r\n",
       "False,54.3,15.7\r\n",
       "False,43.5,14.2\r\n",
       "False,47.7,15\r\n",
       "False,45.2,16.4\r\n",
       "False,50,15.9\r\n",
       "False,44.9,13.8\r\n",
       "False,47.5,14\r\n",
       "False,52.2,17.1\r\n",
       "False,46.9,14.6\r\n",
       "False,51.1,16.5\r\n",
       "False,55.9,17\r\n",
       "False,53.4,15.8\r\n",
       "False,43.5,15.2\r\n",
       "False,51.5,16.3\r\n",
       "False,47.2,13.7\r\n",
       "False,49.9,16.1\r\n"
      ],
      "text/html": [
       "<table><thead><tr><td><span>Label</span></td><td><span>ColumnLength</span></td><td><span>ColumnDepth</span></td></tr></thead><tbody><tr><td><div class=\"dni-plaintext\">True</div></td><td><div class=\"dni-plaintext\">39.3</div></td><td><div class=\"dni-plaintext\">20.6</div></td></tr><tr><td><div class=\"dni-plaintext\">True</div></td><td><div class=\"dni-plaintext\">38.9</div></td><td><div class=\"dni-plaintext\">17.8</div></td></tr><tr><td><div class=\"dni-plaintext\">True</div></td><td><div class=\"dni-plaintext\">37.8</div></td><td><div class=\"dni-plaintext\">17.1</div></td></tr><tr><td><div class=\"dni-plaintext\">True</div></td><td><div class=\"dni-plaintext\">34.4</div></td><td><div class=\"dni-plaintext\">18.4</div></td></tr><tr><td><div class=\"dni-plaintext\">True</div></td><td><div class=\"dni-plaintext\">37.8</div></td><td><div class=\"dni-plaintext\">18.3</div></td></tr><tr><td><div class=\"dni-plaintext\">True</div></td><td><div class=\"dni-plaintext\">37.9</div></td><td><div class=\"dni-plaintext\">18.6</div></td></tr><tr><td><div class=\"dni-plaintext\">True</div></td><td><div class=\"dni-plaintext\">37.2</div></td><td><div class=\"dni-plaintext\">18.1</div></td></tr><tr><td><div class=\"dni-plaintext\">True</div></td><td><div class=\"dni-plaintext\">39.5</div></td><td><div class=\"dni-plaintext\">17.8</div></td></tr><tr><td><div class=\"dni-plaintext\">True</div></td><td><div class=\"dni-plaintext\">42.2</div></td><td><div class=\"dni-plaintext\">18.5</div></td></tr><tr><td><div class=\"dni-plaintext\">True</div></td><td><div class=\"dni-plaintext\">36.5</div></td><td><div class=\"dni-plaintext\">18</div></td></tr><tr><td><div class=\"dni-plaintext\">True</div></td><td><div class=\"dni-plaintext\">37</div></td><td><div class=\"dni-plaintext\">16.9</div></td></tr><tr><td><div class=\"dni-plaintext\">True</div></td><td><div class=\"dni-plaintext\">39.6</div></td><td><div class=\"dni-plaintext\">18.8</div></td></tr><tr><td><div class=\"dni-plaintext\">True</div></td><td><div class=\"dni-plaintext\">41.1</div></td><td><div class=\"dni-plaintext\">19</div></td></tr><tr><td><div class=\"dni-plaintext\">True</div></td><td><div class=\"dni-plaintext\">36</div></td><td><div class=\"dni-plaintext\">17.9</div></td></tr><tr><td><div class=\"dni-plaintext\">True</div></td><td><div class=\"dni-plaintext\">39.6</div></td><td><div class=\"dni-plaintext\">17.7</div></td></tr><tr><td><div class=\"dni-plaintext\">True</div></td><td><div class=\"dni-plaintext\">40.1</div></td><td><div class=\"dni-plaintext\">18.9</div></td></tr><tr><td><div class=\"dni-plaintext\">True</div></td><td><div class=\"dni-plaintext\">35.9</div></td><td><div class=\"dni-plaintext\">16.6</div></td></tr><tr><td><div class=\"dni-plaintext\">True</div></td><td><div class=\"dni-plaintext\">39.7</div></td><td><div class=\"dni-plaintext\">18.4</div></td></tr><tr><td><div class=\"dni-plaintext\">True</div></td><td><div class=\"dni-plaintext\">45.8</div></td><td><div class=\"dni-plaintext\">18.9</div></td></tr><tr><td><div class=\"dni-plaintext\">True</div></td><td><div class=\"dni-plaintext\">40.9</div></td><td><div class=\"dni-plaintext\">16.8</div></td></tr><tr><td><div class=\"dni-plaintext\">True</div></td><td><div class=\"dni-plaintext\">42.1</div></td><td><div class=\"dni-plaintext\">19.1</div></td></tr><tr><td><div class=\"dni-plaintext\">True</div></td><td><div class=\"dni-plaintext\">41.1</div></td><td><div class=\"dni-plaintext\">18.1</div></td></tr><tr><td><div class=\"dni-plaintext\">True</div></td><td><div class=\"dni-plaintext\">39.6</div></td><td><div class=\"dni-plaintext\">18.1</div></td></tr><tr><td><div class=\"dni-plaintext\">True</div></td><td><div class=\"dni-plaintext\">38.1</div></td><td><div class=\"dni-plaintext\">18.6</div></td></tr><tr><td><div class=\"dni-plaintext\">True</div></td><td><div class=\"dni-plaintext\">40.3</div></td><td><div class=\"dni-plaintext\">18.5</div></td></tr><tr><td><div class=\"dni-plaintext\">True</div></td><td><div class=\"dni-plaintext\">43.2</div></td><td><div class=\"dni-plaintext\">18.5</div></td></tr><tr><td><div class=\"dni-plaintext\">True</div></td><td><div class=\"dni-plaintext\">35</div></td><td><div class=\"dni-plaintext\">17.9</div></td></tr><tr><td><div class=\"dni-plaintext\">True</div></td><td><div class=\"dni-plaintext\">37.9</div></td><td><div class=\"dni-plaintext\">18.6</div></td></tr><tr><td><div class=\"dni-plaintext\">True</div></td><td><div class=\"dni-plaintext\">39.7</div></td><td><div class=\"dni-plaintext\">18.9</div></td></tr><tr><td><div class=\"dni-plaintext\">True</div></td><td><div class=\"dni-plaintext\">45.6</div></td><td><div class=\"dni-plaintext\">20.3</div></td></tr><tr><td><div class=\"dni-plaintext\">True</div></td><td><div class=\"dni-plaintext\">42.2</div></td><td><div class=\"dni-plaintext\">19.5</div></td></tr><tr><td><div class=\"dni-plaintext\">True</div></td><td><div class=\"dni-plaintext\">36.2</div></td><td><div class=\"dni-plaintext\">17.2</div></td></tr><tr><td><div class=\"dni-plaintext\">True</div></td><td><div class=\"dni-plaintext\">37.7</div></td><td><div class=\"dni-plaintext\">19.8</div></td></tr><tr><td><div class=\"dni-plaintext\">True</div></td><td><div class=\"dni-plaintext\">40.2</div></td><td><div class=\"dni-plaintext\">17</div></td></tr><tr><td><div class=\"dni-plaintext\">True</div></td><td><div class=\"dni-plaintext\">44.1</div></td><td><div class=\"dni-plaintext\">18</div></td></tr><tr><td><div class=\"dni-plaintext\">True</div></td><td><div class=\"dni-plaintext\">36.8</div></td><td><div class=\"dni-plaintext\">18.5</div></td></tr><tr><td><div class=\"dni-plaintext\">True</div></td><td><div class=\"dni-plaintext\">37.5</div></td><td><div class=\"dni-plaintext\">18.5</div></td></tr><tr><td><div class=\"dni-plaintext\">True</div></td><td><div class=\"dni-plaintext\">40.2</div></td><td><div class=\"dni-plaintext\">20.1</div></td></tr><tr><td><div class=\"dni-plaintext\">True</div></td><td><div class=\"dni-plaintext\">39</div></td><td><div class=\"dni-plaintext\">18.7</div></td></tr><tr><td><div class=\"dni-plaintext\">True</div></td><td><div class=\"dni-plaintext\">36.6</div></td><td><div class=\"dni-plaintext\">18.4</div></td></tr><tr><td><div class=\"dni-plaintext\">True</div></td><td><div class=\"dni-plaintext\">41.5</div></td><td><div class=\"dni-plaintext\">18.5</div></td></tr><tr><td><div class=\"dni-plaintext\">False</div></td><td><div class=\"dni-plaintext\">46.5</div></td><td><div class=\"dni-plaintext\">17.9</div></td></tr><tr><td><div class=\"dni-plaintext\">False</div></td><td><div class=\"dni-plaintext\">52.7</div></td><td><div class=\"dni-plaintext\">19.8</div></td></tr><tr><td><div class=\"dni-plaintext\">False</div></td><td><div class=\"dni-plaintext\">51.3</div></td><td><div class=\"dni-plaintext\">19.9</div></td></tr><tr><td><div class=\"dni-plaintext\">False</div></td><td><div class=\"dni-plaintext\">47</div></td><td><div class=\"dni-plaintext\">17.3</div></td></tr><tr><td><div class=\"dni-plaintext\">False</div></td><td><div class=\"dni-plaintext\">58</div></td><td><div class=\"dni-plaintext\">17.8</div></td></tr><tr><td><div class=\"dni-plaintext\">False</div></td><td><div class=\"dni-plaintext\">48.5</div></td><td><div class=\"dni-plaintext\">17.5</div></td></tr><tr><td><div class=\"dni-plaintext\">False</div></td><td><div class=\"dni-plaintext\">43.2</div></td><td><div class=\"dni-plaintext\">16.6</div></td></tr><tr><td><div class=\"dni-plaintext\">False</div></td><td><div class=\"dni-plaintext\">52</div></td><td><div class=\"dni-plaintext\">19</div></td></tr><tr><td><div class=\"dni-plaintext\">False</div></td><td><div class=\"dni-plaintext\">46.4</div></td><td><div class=\"dni-plaintext\">17.8</div></td></tr><tr><td><div class=\"dni-plaintext\">False</div></td><td><div class=\"dni-plaintext\">52.8</div></td><td><div class=\"dni-plaintext\">20</div></td></tr><tr><td><div class=\"dni-plaintext\">False</div></td><td><div class=\"dni-plaintext\">47.5</div></td><td><div class=\"dni-plaintext\">16.8</div></td></tr><tr><td><div class=\"dni-plaintext\">False</div></td><td><div class=\"dni-plaintext\">47.6</div></td><td><div class=\"dni-plaintext\">18.3</div></td></tr><tr><td><div class=\"dni-plaintext\">False</div></td><td><div class=\"dni-plaintext\">52</div></td><td><div class=\"dni-plaintext\">20.7</div></td></tr><tr><td><div class=\"dni-plaintext\">False</div></td><td><div class=\"dni-plaintext\">53.5</div></td><td><div class=\"dni-plaintext\">19.9</div></td></tr><tr><td><div class=\"dni-plaintext\">False</div></td><td><div class=\"dni-plaintext\">49</div></td><td><div class=\"dni-plaintext\">19.6</div></td></tr><tr><td><div class=\"dni-plaintext\">False</div></td><td><div class=\"dni-plaintext\">48.1</div></td><td><div class=\"dni-plaintext\">16.4</div></td></tr><tr><td><div class=\"dni-plaintext\">False</div></td><td><div class=\"dni-plaintext\">50.7</div></td><td><div class=\"dni-plaintext\">19.7</div></td></tr><tr><td><div class=\"dni-plaintext\">False</div></td><td><div class=\"dni-plaintext\">42.5</div></td><td><div class=\"dni-plaintext\">17.3</div></td></tr><tr><td><div class=\"dni-plaintext\">False</div></td><td><div class=\"dni-plaintext\">45.6</div></td><td><div class=\"dni-plaintext\">19.4</div></td></tr><tr><td><div class=\"dni-plaintext\">False</div></td><td><div class=\"dni-plaintext\">51.9</div></td><td><div class=\"dni-plaintext\">19.5</div></td></tr><tr><td><div class=\"dni-plaintext\">False</div></td><td><div class=\"dni-plaintext\">43.5</div></td><td><div class=\"dni-plaintext\">18.1</div></td></tr><tr><td><div class=\"dni-plaintext\">False</div></td><td><div class=\"dni-plaintext\">50.8</div></td><td><div class=\"dni-plaintext\">19</div></td></tr><tr><td><div class=\"dni-plaintext\">False</div></td><td><div class=\"dni-plaintext\">45.4</div></td><td><div class=\"dni-plaintext\">14.6</div></td></tr><tr><td><div class=\"dni-plaintext\">False</div></td><td><div class=\"dni-plaintext\">49.2</div></td><td><div class=\"dni-plaintext\">15.2</div></td></tr><tr><td><div class=\"dni-plaintext\">False</div></td><td><div class=\"dni-plaintext\">46.5</div></td><td><div class=\"dni-plaintext\">14.5</div></td></tr><tr><td><div class=\"dni-plaintext\">False</div></td><td><div class=\"dni-plaintext\">44.5</div></td><td><div class=\"dni-plaintext\">14.3</div></td></tr><tr><td><div class=\"dni-plaintext\">False</div></td><td><div class=\"dni-plaintext\">47.8</div></td><td><div class=\"dni-plaintext\">15</div></td></tr><tr><td><div class=\"dni-plaintext\">False</div></td><td><div class=\"dni-plaintext\">50</div></td><td><div class=\"dni-plaintext\">15.3</div></td></tr><tr><td><div class=\"dni-plaintext\">False</div></td><td><div class=\"dni-plaintext\">45.1</div></td><td><div class=\"dni-plaintext\">14.5</div></td></tr><tr><td><div class=\"dni-plaintext\">False</div></td><td><div class=\"dni-plaintext\">49.1</div></td><td><div class=\"dni-plaintext\">14.8</div></td></tr><tr><td><div class=\"dni-plaintext\">False</div></td><td><div class=\"dni-plaintext\">48.7</div></td><td><div class=\"dni-plaintext\">15.7</div></td></tr><tr><td><div class=\"dni-plaintext\">False</div></td><td><div class=\"dni-plaintext\">45.3</div></td><td><div class=\"dni-plaintext\">13.7</div></td></tr><tr><td><div class=\"dni-plaintext\">False</div></td><td><div class=\"dni-plaintext\">44.9</div></td><td><div class=\"dni-plaintext\">13.3</div></td></tr><tr><td><div class=\"dni-plaintext\">False</div></td><td><div class=\"dni-plaintext\">48.5</div></td><td><div class=\"dni-plaintext\">14.1</div></td></tr><tr><td><div class=\"dni-plaintext\">False</div></td><td><div class=\"dni-plaintext\">45.1</div></td><td><div class=\"dni-plaintext\">14.4</div></td></tr><tr><td><div class=\"dni-plaintext\">False</div></td><td><div class=\"dni-plaintext\">45</div></td><td><div class=\"dni-plaintext\">15.4</div></td></tr><tr><td><div class=\"dni-plaintext\">False</div></td><td><div class=\"dni-plaintext\">43.8</div></td><td><div class=\"dni-plaintext\">13.9</div></td></tr><tr><td><div class=\"dni-plaintext\">False</div></td><td><div class=\"dni-plaintext\">50.4</div></td><td><div class=\"dni-plaintext\">15.3</div></td></tr><tr><td><div class=\"dni-plaintext\">False</div></td><td><div class=\"dni-plaintext\">45.3</div></td><td><div class=\"dni-plaintext\">13.8</div></td></tr><tr><td><div class=\"dni-plaintext\">False</div></td><td><div class=\"dni-plaintext\">54.3</div></td><td><div class=\"dni-plaintext\">15.7</div></td></tr><tr><td><div class=\"dni-plaintext\">False</div></td><td><div class=\"dni-plaintext\">43.5</div></td><td><div class=\"dni-plaintext\">14.2</div></td></tr><tr><td><div class=\"dni-plaintext\">False</div></td><td><div class=\"dni-plaintext\">47.7</div></td><td><div class=\"dni-plaintext\">15</div></td></tr><tr><td><div class=\"dni-plaintext\">False</div></td><td><div class=\"dni-plaintext\">45.2</div></td><td><div class=\"dni-plaintext\">16.4</div></td></tr><tr><td><div class=\"dni-plaintext\">False</div></td><td><div class=\"dni-plaintext\">50</div></td><td><div class=\"dni-plaintext\">15.9</div></td></tr><tr><td><div class=\"dni-plaintext\">False</div></td><td><div class=\"dni-plaintext\">44.9</div></td><td><div class=\"dni-plaintext\">13.8</div></td></tr><tr><td><div class=\"dni-plaintext\">False</div></td><td><div class=\"dni-plaintext\">47.5</div></td><td><div class=\"dni-plaintext\">14</div></td></tr><tr><td><div class=\"dni-plaintext\">False</div></td><td><div class=\"dni-plaintext\">52.2</div></td><td><div class=\"dni-plaintext\">17.1</div></td></tr><tr><td><div class=\"dni-plaintext\">False</div></td><td><div class=\"dni-plaintext\">46.9</div></td><td><div class=\"dni-plaintext\">14.6</div></td></tr><tr><td><div class=\"dni-plaintext\">False</div></td><td><div class=\"dni-plaintext\">51.1</div></td><td><div class=\"dni-plaintext\">16.5</div></td></tr><tr><td><div class=\"dni-plaintext\">False</div></td><td><div class=\"dni-plaintext\">55.9</div></td><td><div class=\"dni-plaintext\">17</div></td></tr><tr><td><div class=\"dni-plaintext\">False</div></td><td><div class=\"dni-plaintext\">53.4</div></td><td><div class=\"dni-plaintext\">15.8</div></td></tr><tr><td><div class=\"dni-plaintext\">False</div></td><td><div class=\"dni-plaintext\">43.5</div></td><td><div class=\"dni-plaintext\">15.2</div></td></tr><tr><td><div class=\"dni-plaintext\">False</div></td><td><div class=\"dni-plaintext\">51.5</div></td><td><div class=\"dni-plaintext\">16.3</div></td></tr><tr><td><div class=\"dni-plaintext\">False</div></td><td><div class=\"dni-plaintext\">47.2</div></td><td><div class=\"dni-plaintext\">13.7</div></td></tr><tr><td><div class=\"dni-plaintext\">False</div></td><td><div class=\"dni-plaintext\">49.9</div></td><td><div class=\"dni-plaintext\">16.1</div></td></tr></tbody></table>"
      ]
     },
     "metadata": {},
     "output_type": "display_data"
    }
   ],
   "source": [
    "dataSplit.TestSet.ToTabularDataResource()"
   ]
  },
  {
   "cell_type": "code",
   "execution_count": null,
   "metadata": {
    "dotnet_interactive": {
     "language": "csharp"
    },
    "vscode": {
     "languageId": "dotnet-interactive.csharp"
    }
   },
   "outputs": [],
   "source": [
    "var model = mlContext\n",
    "            .BinaryClassification\n",
    "            .Trainers\n",
    "            .LbfgsLogisticRegression(labelColumnName: \"Label\", featureColumnName: \"Features\");"
   ]
  },
  {
   "cell_type": "code",
   "execution_count": null,
   "metadata": {
    "dotnet_interactive": {
     "language": "csharp"
    },
    "vscode": {
     "languageId": "dotnet-interactive.csharp"
    }
   },
   "outputs": [],
   "source": []
  }
 ],
 "metadata": {
  "kernelspec": {
   "display_name": ".NET (C#)",
   "language": "C#",
   "name": ".net-csharp"
  },
  "language_info": {
   "file_extension": ".cs",
   "mimetype": "text/x-csharp",
   "name": "C#",
   "pygments_lexer": "csharp",
   "version": "9.0"
  },
  "orig_nbformat": 4,
  "vscode": {
   "interpreter": {
    "hash": "369f2c481f4da34e4445cda3fffd2e751bd1c4d706f27375911949ba6bb62e1c"
   }
  }
 },
 "nbformat": 4,
 "nbformat_minor": 2
}
