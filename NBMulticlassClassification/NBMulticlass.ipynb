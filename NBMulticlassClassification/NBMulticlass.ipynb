{
 "cells": [
  {
   "cell_type": "markdown",
   "metadata": {
    "dotnet_interactive": {
     "language": "csharp"
    }
   },
   "source": [
    "Add packages"
   ]
  },
  {
   "cell_type": "code",
   "execution_count": null,
   "metadata": {
    "dotnet_interactive": {
     "language": "csharp"
    },
    "vscode": {
     "languageId": "dotnet-interactive.csharp"
    }
   },
   "outputs": [
    {
     "data": {
      "text/html": [
       "<div><div></div><div></div><div><strong>Installed Packages</strong><ul><li><span>Microsoft.Data.Analysis, 0.20.0-preview.22313.1</span></li><li><span>Microsoft.DotNet.Interactive.ExtensionLab, 1.0.0-beta.22314.1</span></li><li><span>Microsoft.ML, 2.0.0-preview.22313.1</span></li></ul></div></div>"
      ]
     },
     "metadata": {},
     "output_type": "display_data"
    },
    {
     "data": {
      "text/markdown": [
       "Loading extensions from `Microsoft.Data.Analysis.Interactive.dll`"
      ]
     },
     "metadata": {},
     "output_type": "display_data"
    },
    {
     "data": {
      "text/markdown": [
       "Loading extensions from `Microsoft.DotNet.Interactive.ExtensionLab.dll`"
      ]
     },
     "metadata": {},
     "output_type": "display_data"
    },
    {
     "data": {
      "text/html": [
       "<details><summary>Create strongly-typed dataframes using<code>#!linqify</code>.</summary>\r\n",
       "    <p>The <code>#!linqify</code> magic command replaces a <a href=\"https://www.nuget.org/packages/Microsoft.Data.Analysis/\"><code>Microsoft.Data.Analysis.DataFrame</code></a> variable with a generated, strongly-typed data frame, allowing the use of LINQ operations over the contained data.</p>\r\n",
       "    </details>"
      ]
     },
     "metadata": {},
     "output_type": "display_data"
    },
    {
     "data": {
      "text/html": [
       "<details><summary>Inspect code compilation details using the <code>#!inspect</code> magic command.</summary>\r\n",
       "    <p>The <code>#!inspect</code> magic command allows you to see the C# decompilation, IL, and JIT Asm for the code in a C# cell.</p>\r\n",
       "    <img src=\"https://user-images.githubusercontent.com/547415/109560515-d5749a00-7a90-11eb-9fa3-51b737345bb4.png\" width=\"75%\" />\r\n",
       "    </details>"
      ]
     },
     "metadata": {},
     "output_type": "display_data"
    },
    {
     "data": {
      "text/html": [
       "<details><summary>Use the <code>#!record</code> magic command to keep a transcript of the code you run.</summary>\r\n",
       "    <p>Once you enable transcripts using <code>#!record</code>, each code submission (including re-running cells) is recorded in the specified file. The JSON format used is the same format recognized by the .NET Interactive <code>stdio</code> and <code>http</code> APIs and can be used to replay an interactive session via automation.</p>\r\n",
       "    <img src=\"https://user-images.githubusercontent.com/547415/109562409-343b1300-7a93-11eb-8ebf-79bb6af028cf.png\" width=\"75%\" />\r\n",
       "    </details>"
      ]
     },
     "metadata": {},
     "output_type": "display_data"
    },
    {
     "data": {
      "text/html": [
       "<details><summary>Query SQLite databases.</summary>\r\n",
       "    <p>This extension adds support for connecting to SQLite databases using the <code>#!connect sqlite</code> magic command. For more information, run a cell using the <code>#!sql</code> magic command.</p>\r\n",
       "    </details>"
      ]
     },
     "metadata": {},
     "output_type": "display_data"
    }
   ],
   "source": [
    "#r \"nuget:Microsoft.ML, *-*\"\n",
    "#r \"nuget:Microsoft.Data.Analysis, *-*\"\n",
    "#r \"nuget:Microsoft.DotNet.Interactive.ExtensionLab, *-*\""
   ]
  },
  {
   "cell_type": "code",
   "execution_count": null,
   "metadata": {
    "dotnet_interactive": {
     "language": "csharp"
    },
    "vscode": {
     "languageId": "dotnet-interactive.csharp"
    }
   },
   "outputs": [],
   "source": [
    "using Microsoft.ML;\n",
    "using Microsoft.ML.Data;\n",
    "using Microsoft.Data.Analysis;\n",
    "\n",
    "using System.IO;\n",
    "using System.Text;"
   ]
  },
  {
   "cell_type": "markdown",
   "metadata": {
    "dotnet_interactive": {
     "language": "csharp"
    },
    "vscode": {
     "languageId": "dotnet-interactive.csharp"
    }
   },
   "source": [
    "Data Models"
   ]
  },
  {
   "cell_type": "code",
   "execution_count": null,
   "metadata": {
    "dotnet_interactive": {
     "language": "csharp"
    },
    "vscode": {
     "languageId": "dotnet-interactive.csharp"
    }
   },
   "outputs": [
    {
     "ename": "Error",
     "evalue": "(27,17): error CS1056: Unexpected character '\\'\r\n(27,18): error CS1010: Newline in constant\r\n(27,37): error CS1026: ) expected\r\n(27,37): error CS1003: Syntax error, ']' expected",
     "output_type": "error",
     "traceback": [
      "(27,17): error CS1056: Unexpected character '\\'\r\n",
      "(27,18): error CS1010: Newline in constant\r\n",
      "(27,37): error CS1026: ) expected\r\n",
      "(27,37): error CS1003: Syntax error, ']' expected"
     ]
    }
   ],
   "source": [
    "public class PalmerPenguinsBinaryData\n",
    "{\n",
    "    [LoadColumn(0)]\n",
    "    public string Label { get; set; }\n",
    "\n",
    "    [LoadColumn(1)]\n",
    "    public string Island { get; set; }\n",
    "    \n",
    "    [LoadColumn(2)]\n",
    "    public float CulmenLength { get; set; }\n",
    "    \n",
    "    [LoadColumn(3)]\n",
    "    public float CulmenDepth { get; set; }\n",
    "    \n",
    "    [LoadColumn(4)]\n",
    "    public float FliperLength { get; set; }\n",
    "    \n",
    "    [LoadColumn(5)]\n",
    "    public float BodyMass { get; set; }\n",
    "    \n",
    "    [LoadColumn(6)]\n",
    "    public string Sex { get; set; }\n",
    "}\n",
    "\n",
    "public class PalmerPenguinsPrediction\n",
    "{\n",
    "    [ColumnName(\"PredictedLabel\")]\n",
    "    public string PredictedLabel { get; set; }\n",
    "}"
   ]
  },
  {
   "cell_type": "markdown",
   "metadata": {},
   "source": [
    "Load and Split Data"
   ]
  },
  {
   "cell_type": "markdown",
   "metadata": {},
   "source": [
    "Train the Model"
   ]
  },
  {
   "cell_type": "markdown",
   "metadata": {},
   "source": [
    "Evaluate the Model"
   ]
  },
  {
   "cell_type": "markdown",
   "metadata": {},
   "source": [
    "Save The Model"
   ]
  },
  {
   "cell_type": "markdown",
   "metadata": {},
   "source": [
    "Load The Model And Predict"
   ]
  },
  {
   "cell_type": "markdown",
   "metadata": {},
   "source": []
  }
 ],
 "metadata": {
  "kernelspec": {
   "display_name": ".NET (C#)",
   "language": "C#",
   "name": ".net-csharp"
  },
  "language_info": {
   "file_extension": ".cs",
   "mimetype": "text/x-csharp",
   "name": "C#",
   "pygments_lexer": "csharp",
   "version": "9.0"
  },
  "orig_nbformat": 4
 },
 "nbformat": 4,
 "nbformat_minor": 2
}
