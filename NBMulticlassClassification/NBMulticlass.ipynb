{
 "cells": [
  {
   "cell_type": "markdown",
   "metadata": {
    "dotnet_interactive": {
     "language": "csharp"
    }
   },
   "source": [
    "Add packages"
   ]
  },
  {
   "cell_type": "code",
   "execution_count": null,
   "metadata": {
    "dotnet_interactive": {
     "language": "csharp"
    },
    "vscode": {
     "languageId": "dotnet-interactive.csharp"
    }
   },
   "outputs": [
    {
     "data": {
      "text/html": [
       "<div><div></div><div></div><div><strong>Installed Packages</strong><ul><li><span>Microsoft.Data.Analysis, 0.20.0-preview.22313.1</span></li><li><span>Microsoft.DotNet.Interactive.ExtensionLab, 1.0.0-beta.22314.1</span></li><li><span>Microsoft.ML, 2.0.0-preview.22313.1</span></li></ul></div></div>"
      ]
     },
     "metadata": {},
     "output_type": "display_data"
    },
    {
     "data": {
      "text/markdown": [
       "Loading extensions from `Microsoft.Data.Analysis.Interactive.dll`"
      ]
     },
     "metadata": {},
     "output_type": "display_data"
    },
    {
     "data": {
      "text/markdown": [
       "Loading extensions from `Microsoft.DotNet.Interactive.ExtensionLab.dll`"
      ]
     },
     "metadata": {},
     "output_type": "display_data"
    },
    {
     "data": {
      "text/html": [
       "<details><summary>Create strongly-typed dataframes using<code>#!linqify</code>.</summary>\r\n",
       "    <p>The <code>#!linqify</code> magic command replaces a <a href=\"https://www.nuget.org/packages/Microsoft.Data.Analysis/\"><code>Microsoft.Data.Analysis.DataFrame</code></a> variable with a generated, strongly-typed data frame, allowing the use of LINQ operations over the contained data.</p>\r\n",
       "    </details>"
      ]
     },
     "metadata": {},
     "output_type": "display_data"
    },
    {
     "data": {
      "text/html": [
       "<details><summary>Inspect code compilation details using the <code>#!inspect</code> magic command.</summary>\r\n",
       "    <p>The <code>#!inspect</code> magic command allows you to see the C# decompilation, IL, and JIT Asm for the code in a C# cell.</p>\r\n",
       "    <img src=\"https://user-images.githubusercontent.com/547415/109560515-d5749a00-7a90-11eb-9fa3-51b737345bb4.png\" width=\"75%\" />\r\n",
       "    </details>"
      ]
     },
     "metadata": {},
     "output_type": "display_data"
    },
    {
     "data": {
      "text/html": [
       "<details><summary>Use the <code>#!record</code> magic command to keep a transcript of the code you run.</summary>\r\n",
       "    <p>Once you enable transcripts using <code>#!record</code>, each code submission (including re-running cells) is recorded in the specified file. The JSON format used is the same format recognized by the .NET Interactive <code>stdio</code> and <code>http</code> APIs and can be used to replay an interactive session via automation.</p>\r\n",
       "    <img src=\"https://user-images.githubusercontent.com/547415/109562409-343b1300-7a93-11eb-8ebf-79bb6af028cf.png\" width=\"75%\" />\r\n",
       "    </details>"
      ]
     },
     "metadata": {},
     "output_type": "display_data"
    },
    {
     "data": {
      "text/html": [
       "<details><summary>Query SQLite databases.</summary>\r\n",
       "    <p>This extension adds support for connecting to SQLite databases using the <code>#!connect sqlite</code> magic command. For more information, run a cell using the <code>#!sql</code> magic command.</p>\r\n",
       "    </details>"
      ]
     },
     "metadata": {},
     "output_type": "display_data"
    }
   ],
   "source": [
    "#r \"nuget:Microsoft.ML, *-*\"\n",
    "#r \"nuget:Microsoft.Data.Analysis, *-*\"\n",
    "#r \"nuget:Microsoft.DotNet.Interactive.ExtensionLab, *-*\""
   ]
  },
  {
   "cell_type": "code",
   "execution_count": null,
   "metadata": {
    "dotnet_interactive": {
     "language": "csharp"
    },
    "vscode": {
     "languageId": "dotnet-interactive.csharp"
    }
   },
   "outputs": [],
   "source": [
    "using Microsoft.ML;\n",
    "using Microsoft.ML.Data;\n",
    "using Microsoft.Data.Analysis;\n",
    "\n",
    "using System.IO;\n",
    "using System.Text;"
   ]
  },
  {
   "cell_type": "markdown",
   "metadata": {
    "dotnet_interactive": {
     "language": "csharp"
    },
    "vscode": {
     "languageId": "dotnet-interactive.csharp"
    }
   },
   "source": [
    "Data Models"
   ]
  },
  {
   "cell_type": "code",
   "execution_count": null,
   "metadata": {
    "dotnet_interactive": {
     "language": "csharp"
    },
    "vscode": {
     "languageId": "dotnet-interactive.csharp"
    }
   },
   "outputs": [],
   "source": [
    "public class PalmerPenguinsData\n",
    "{\n",
    "    [LoadColumn(0)]\n",
    "    public string Label { get; set; }\n",
    "\n",
    "    [LoadColumn(1)]\n",
    "    public string Island { get; set; }\n",
    "    \n",
    "    [LoadColumn(2)]\n",
    "    public float CulmenLength { get; set; }\n",
    "    \n",
    "    [LoadColumn(3)]\n",
    "    public float CulmenDepth { get; set; }\n",
    "    \n",
    "    [LoadColumn(4)]\n",
    "    public float FliperLength { get; set; }\n",
    "    \n",
    "    [LoadColumn(5)]\n",
    "    public float BodyMass { get; set; }\n",
    "    \n",
    "    [LoadColumn(6)]\n",
    "    public string Sex { get; set; }\n",
    "}\n",
    "\n",
    "public class PalmerPenguinsPrediction\n",
    "{\n",
    "    [ColumnName(\"PredictedLabel\")]\n",
    "    public string PredictedLabel { get; set; }\n",
    "}"
   ]
  },
  {
   "cell_type": "markdown",
   "metadata": {},
   "source": [
    "Load and Split Data"
   ]
  },
  {
   "cell_type": "code",
   "execution_count": null,
   "metadata": {
    "dotnet_interactive": {
     "language": "csharp"
    },
    "vscode": {
     "languageId": "dotnet-interactive.csharp"
    }
   },
   "outputs": [],
   "source": [
    "var mlContext = new MLContext();\n",
    "var trainingDataView = mlContext.Data.LoadFromTextFile<PalmerPenguinsData>(\"./Data/penguins_size.csv\", hasHeader: true, separatorChar: ',');\n",
    "\n",
    "var dataSplit = mlContext.Data.TrainTestSplit(trainingDataView, testFraction: 0.3);"
   ]
  },
  {
   "cell_type": "code",
   "execution_count": null,
   "metadata": {
    "dotnet_interactive": {
     "language": "csharp"
    },
    "vscode": {
     "languageId": "dotnet-interactive.csharp"
    }
   },
   "outputs": [
    {
     "data": {
      "text/csv": [
       "Label,Island,CulmenLength,CulmenDepth,FliperLength,BodyMass,Sex\r\n",
       "Adelie,Torgersen,39.3,20.6,190,3650,MALE\r\n",
       "Adelie,Torgersen,38.9,17.8,181,3625,FEMALE\r\n",
       "Adelie,Torgersen,37.8,17.1,186,3300,NA\r\n",
       "Adelie,Torgersen,34.4,18.4,184,3325,FEMALE\r\n",
       "Adelie,Biscoe,37.8,18.3,174,3400,FEMALE\r\n",
       "Adelie,Biscoe,37.9,18.6,172,3150,FEMALE\r\n",
       "Adelie,Dream,37.2,18.1,178,3900,MALE\r\n",
       "Adelie,Dream,39.5,17.8,188,3300,FEMALE\r\n",
       "Adelie,Dream,42.2,18.5,180,3550,FEMALE\r\n",
       "Adelie,Dream,36.5,18,182,3150,FEMALE\r\n",
       "Adelie,Dream,37,16.9,185,3000,FEMALE\r\n",
       "Adelie,Dream,39.6,18.8,190,4600,MALE\r\n",
       "Adelie,Dream,41.1,19,182,3425,MALE\r\n",
       "Adelie,Dream,36,17.9,190,3450,FEMALE\r\n",
       "Adelie,Biscoe,39.6,17.7,186,3500,FEMALE\r\n",
       "Adelie,Biscoe,40.1,18.9,188,4300,MALE\r\n",
       "Adelie,Torgersen,35.9,16.6,190,3050,FEMALE\r\n",
       "Adelie,Torgersen,39.7,18.4,190,3900,MALE\r\n",
       "Adelie,Torgersen,45.8,18.9,197,4150,MALE\r\n",
       "Adelie,Torgersen,40.9,16.8,191,3700,FEMALE\r\n",
       "Adelie,Torgersen,42.1,19.1,195,4000,MALE\r\n",
       "Adelie,Dream,41.1,18.1,205,4300,MALE\r\n",
       "Adelie,Dream,39.6,18.1,186,4450,MALE\r\n",
       "Adelie,Dream,38.1,18.6,190,3700,FEMALE\r\n",
       "Adelie,Dream,40.3,18.5,196,4350,MALE\r\n",
       "Adelie,Dream,43.2,18.5,192,4100,MALE\r\n",
       "Adelie,Biscoe,35,17.9,192,3725,FEMALE\r\n",
       "Adelie,Biscoe,37.9,18.6,193,2925,FEMALE\r\n",
       "Adelie,Biscoe,39.7,18.9,184,3550,MALE\r\n",
       "Adelie,Biscoe,45.6,20.3,191,4600,MALE\r\n",
       "Adelie,Biscoe,42.2,19.5,197,4275,MALE\r\n",
       "Adelie,Torgersen,36.2,17.2,187,3150,FEMALE\r\n",
       "Adelie,Torgersen,37.7,19.8,198,3500,MALE\r\n",
       "Adelie,Torgersen,40.2,17,176,3450,FEMALE\r\n",
       "Adelie,Torgersen,44.1,18,210,4000,MALE\r\n",
       "Adelie,Dream,36.8,18.5,193,3500,FEMALE\r\n",
       "Adelie,Dream,37.5,18.5,199,4475,MALE\r\n",
       "Adelie,Dream,40.2,20.1,200,3975,MALE\r\n",
       "Adelie,Dream,39,18.7,185,3650,MALE\r\n",
       "Adelie,Dream,36.6,18.4,184,3475,FEMALE\r\n",
       "Adelie,Dream,41.5,18.5,201,4000,MALE\r\n",
       "Chinstrap,Dream,46.5,17.9,192,3500,FEMALE\r\n",
       "Chinstrap,Dream,52.7,19.8,197,3725,MALE\r\n",
       "Chinstrap,Dream,51.3,19.9,198,3700,MALE\r\n",
       "Chinstrap,Dream,47,17.3,185,3700,FEMALE\r\n",
       "Chinstrap,Dream,58,17.8,181,3700,FEMALE\r\n",
       "Chinstrap,Dream,48.5,17.5,191,3400,MALE\r\n",
       "Chinstrap,Dream,43.2,16.6,187,2900,FEMALE\r\n",
       "Chinstrap,Dream,52,19,197,4150,MALE\r\n",
       "Chinstrap,Dream,46.4,17.8,191,3700,FEMALE\r\n",
       "Chinstrap,Dream,52.8,20,205,4550,MALE\r\n",
       "Chinstrap,Dream,47.5,16.8,199,3900,FEMALE\r\n",
       "Chinstrap,Dream,47.6,18.3,195,3850,FEMALE\r\n",
       "Chinstrap,Dream,52,20.7,210,4800,MALE\r\n",
       "Chinstrap,Dream,53.5,19.9,205,4500,MALE\r\n",
       "Chinstrap,Dream,49,19.6,212,4300,MALE\r\n",
       "Chinstrap,Dream,48.1,16.4,199,3325,FEMALE\r\n",
       "Chinstrap,Dream,50.7,19.7,203,4050,MALE\r\n",
       "Chinstrap,Dream,42.5,17.3,187,3350,FEMALE\r\n",
       "Chinstrap,Dream,45.6,19.4,194,3525,FEMALE\r\n",
       "Chinstrap,Dream,51.9,19.5,206,3950,MALE\r\n",
       "Chinstrap,Dream,43.5,18.1,202,3400,FEMALE\r\n",
       "Chinstrap,Dream,50.8,19,210,4100,MALE\r\n",
       "Gentoo,Biscoe,45.4,14.6,211,4800,FEMALE\r\n",
       "Gentoo,Biscoe,49.2,15.2,221,6300,MALE\r\n",
       "Gentoo,Biscoe,46.5,14.5,213,4400,FEMALE\r\n",
       "Gentoo,Biscoe,44.5,14.3,216,4100,NA\r\n",
       "Gentoo,Biscoe,47.8,15,215,5650,MALE\r\n",
       "Gentoo,Biscoe,50,15.3,220,5550,MALE\r\n",
       "Gentoo,Biscoe,45.1,14.5,207,5050,FEMALE\r\n",
       "Gentoo,Biscoe,49.1,14.8,220,5150,FEMALE\r\n",
       "Gentoo,Biscoe,48.7,15.7,208,5350,MALE\r\n",
       "Gentoo,Biscoe,45.3,13.7,210,4300,FEMALE\r\n",
       "Gentoo,Biscoe,44.9,13.3,213,5100,FEMALE\r\n",
       "Gentoo,Biscoe,48.5,14.1,220,5300,MALE\r\n",
       "Gentoo,Biscoe,45.1,14.4,210,4400,FEMALE\r\n",
       "Gentoo,Biscoe,45,15.4,220,5050,MALE\r\n",
       "Gentoo,Biscoe,43.8,13.9,208,4300,FEMALE\r\n",
       "Gentoo,Biscoe,50.4,15.3,224,5550,MALE\r\n",
       "Gentoo,Biscoe,45.3,13.8,208,4200,FEMALE\r\n",
       "Gentoo,Biscoe,54.3,15.7,231,5650,MALE\r\n",
       "Gentoo,Biscoe,43.5,14.2,220,4700,FEMALE\r\n",
       "Gentoo,Biscoe,47.7,15,216,4750,FEMALE\r\n",
       "Gentoo,Biscoe,45.2,16.4,223,5950,MALE\r\n",
       "Gentoo,Biscoe,50,15.9,224,5350,MALE\r\n",
       "Gentoo,Biscoe,44.9,13.8,212,4750,FEMALE\r\n",
       "Gentoo,Biscoe,47.5,14,212,4875,FEMALE\r\n",
       "Gentoo,Biscoe,52.2,17.1,228,5400,MALE\r\n",
       "Gentoo,Biscoe,46.9,14.6,222,4875,FEMALE\r\n",
       "Gentoo,Biscoe,51.1,16.5,225,5250,MALE\r\n",
       "Gentoo,Biscoe,55.9,17,228,5600,MALE\r\n",
       "Gentoo,Biscoe,53.4,15.8,219,5500,MALE\r\n",
       "Gentoo,Biscoe,43.5,15.2,213,4650,FEMALE\r\n",
       "Gentoo,Biscoe,51.5,16.3,230,5500,MALE\r\n",
       "Gentoo,Biscoe,47.2,13.7,214,4925,FEMALE\r\n",
       "Gentoo,Biscoe,49.9,16.1,213,5400,MALE\r\n"
      ],
      "text/html": [
       "<table><thead><tr><td><span>Label</span></td><td><span>Island</span></td><td><span>CulmenLength</span></td><td><span>CulmenDepth</span></td><td><span>FliperLength</span></td><td><span>BodyMass</span></td><td><span>Sex</span></td></tr></thead><tbody><tr><td>Adelie</td><td>Torgersen</td><td><div class=\"dni-plaintext\">39.3</div></td><td><div class=\"dni-plaintext\">20.6</div></td><td><div class=\"dni-plaintext\">190</div></td><td><div class=\"dni-plaintext\">3650</div></td><td>MALE</td></tr><tr><td>Adelie</td><td>Torgersen</td><td><div class=\"dni-plaintext\">38.9</div></td><td><div class=\"dni-plaintext\">17.8</div></td><td><div class=\"dni-plaintext\">181</div></td><td><div class=\"dni-plaintext\">3625</div></td><td>FEMALE</td></tr><tr><td>Adelie</td><td>Torgersen</td><td><div class=\"dni-plaintext\">37.8</div></td><td><div class=\"dni-plaintext\">17.1</div></td><td><div class=\"dni-plaintext\">186</div></td><td><div class=\"dni-plaintext\">3300</div></td><td>NA</td></tr><tr><td>Adelie</td><td>Torgersen</td><td><div class=\"dni-plaintext\">34.4</div></td><td><div class=\"dni-plaintext\">18.4</div></td><td><div class=\"dni-plaintext\">184</div></td><td><div class=\"dni-plaintext\">3325</div></td><td>FEMALE</td></tr><tr><td>Adelie</td><td>Biscoe</td><td><div class=\"dni-plaintext\">37.8</div></td><td><div class=\"dni-plaintext\">18.3</div></td><td><div class=\"dni-plaintext\">174</div></td><td><div class=\"dni-plaintext\">3400</div></td><td>FEMALE</td></tr><tr><td>Adelie</td><td>Biscoe</td><td><div class=\"dni-plaintext\">37.9</div></td><td><div class=\"dni-plaintext\">18.6</div></td><td><div class=\"dni-plaintext\">172</div></td><td><div class=\"dni-plaintext\">3150</div></td><td>FEMALE</td></tr><tr><td>Adelie</td><td>Dream</td><td><div class=\"dni-plaintext\">37.2</div></td><td><div class=\"dni-plaintext\">18.1</div></td><td><div class=\"dni-plaintext\">178</div></td><td><div class=\"dni-plaintext\">3900</div></td><td>MALE</td></tr><tr><td>Adelie</td><td>Dream</td><td><div class=\"dni-plaintext\">39.5</div></td><td><div class=\"dni-plaintext\">17.8</div></td><td><div class=\"dni-plaintext\">188</div></td><td><div class=\"dni-plaintext\">3300</div></td><td>FEMALE</td></tr><tr><td>Adelie</td><td>Dream</td><td><div class=\"dni-plaintext\">42.2</div></td><td><div class=\"dni-plaintext\">18.5</div></td><td><div class=\"dni-plaintext\">180</div></td><td><div class=\"dni-plaintext\">3550</div></td><td>FEMALE</td></tr><tr><td>Adelie</td><td>Dream</td><td><div class=\"dni-plaintext\">36.5</div></td><td><div class=\"dni-plaintext\">18</div></td><td><div class=\"dni-plaintext\">182</div></td><td><div class=\"dni-plaintext\">3150</div></td><td>FEMALE</td></tr><tr><td>Adelie</td><td>Dream</td><td><div class=\"dni-plaintext\">37</div></td><td><div class=\"dni-plaintext\">16.9</div></td><td><div class=\"dni-plaintext\">185</div></td><td><div class=\"dni-plaintext\">3000</div></td><td>FEMALE</td></tr><tr><td>Adelie</td><td>Dream</td><td><div class=\"dni-plaintext\">39.6</div></td><td><div class=\"dni-plaintext\">18.8</div></td><td><div class=\"dni-plaintext\">190</div></td><td><div class=\"dni-plaintext\">4600</div></td><td>MALE</td></tr><tr><td>Adelie</td><td>Dream</td><td><div class=\"dni-plaintext\">41.1</div></td><td><div class=\"dni-plaintext\">19</div></td><td><div class=\"dni-plaintext\">182</div></td><td><div class=\"dni-plaintext\">3425</div></td><td>MALE</td></tr><tr><td>Adelie</td><td>Dream</td><td><div class=\"dni-plaintext\">36</div></td><td><div class=\"dni-plaintext\">17.9</div></td><td><div class=\"dni-plaintext\">190</div></td><td><div class=\"dni-plaintext\">3450</div></td><td>FEMALE</td></tr><tr><td>Adelie</td><td>Biscoe</td><td><div class=\"dni-plaintext\">39.6</div></td><td><div class=\"dni-plaintext\">17.7</div></td><td><div class=\"dni-plaintext\">186</div></td><td><div class=\"dni-plaintext\">3500</div></td><td>FEMALE</td></tr><tr><td>Adelie</td><td>Biscoe</td><td><div class=\"dni-plaintext\">40.1</div></td><td><div class=\"dni-plaintext\">18.9</div></td><td><div class=\"dni-plaintext\">188</div></td><td><div class=\"dni-plaintext\">4300</div></td><td>MALE</td></tr><tr><td>Adelie</td><td>Torgersen</td><td><div class=\"dni-plaintext\">35.9</div></td><td><div class=\"dni-plaintext\">16.6</div></td><td><div class=\"dni-plaintext\">190</div></td><td><div class=\"dni-plaintext\">3050</div></td><td>FEMALE</td></tr><tr><td>Adelie</td><td>Torgersen</td><td><div class=\"dni-plaintext\">39.7</div></td><td><div class=\"dni-plaintext\">18.4</div></td><td><div class=\"dni-plaintext\">190</div></td><td><div class=\"dni-plaintext\">3900</div></td><td>MALE</td></tr><tr><td>Adelie</td><td>Torgersen</td><td><div class=\"dni-plaintext\">45.8</div></td><td><div class=\"dni-plaintext\">18.9</div></td><td><div class=\"dni-plaintext\">197</div></td><td><div class=\"dni-plaintext\">4150</div></td><td>MALE</td></tr><tr><td>Adelie</td><td>Torgersen</td><td><div class=\"dni-plaintext\">40.9</div></td><td><div class=\"dni-plaintext\">16.8</div></td><td><div class=\"dni-plaintext\">191</div></td><td><div class=\"dni-plaintext\">3700</div></td><td>FEMALE</td></tr><tr><td>Adelie</td><td>Torgersen</td><td><div class=\"dni-plaintext\">42.1</div></td><td><div class=\"dni-plaintext\">19.1</div></td><td><div class=\"dni-plaintext\">195</div></td><td><div class=\"dni-plaintext\">4000</div></td><td>MALE</td></tr><tr><td>Adelie</td><td>Dream</td><td><div class=\"dni-plaintext\">41.1</div></td><td><div class=\"dni-plaintext\">18.1</div></td><td><div class=\"dni-plaintext\">205</div></td><td><div class=\"dni-plaintext\">4300</div></td><td>MALE</td></tr><tr><td>Adelie</td><td>Dream</td><td><div class=\"dni-plaintext\">39.6</div></td><td><div class=\"dni-plaintext\">18.1</div></td><td><div class=\"dni-plaintext\">186</div></td><td><div class=\"dni-plaintext\">4450</div></td><td>MALE</td></tr><tr><td>Adelie</td><td>Dream</td><td><div class=\"dni-plaintext\">38.1</div></td><td><div class=\"dni-plaintext\">18.6</div></td><td><div class=\"dni-plaintext\">190</div></td><td><div class=\"dni-plaintext\">3700</div></td><td>FEMALE</td></tr><tr><td>Adelie</td><td>Dream</td><td><div class=\"dni-plaintext\">40.3</div></td><td><div class=\"dni-plaintext\">18.5</div></td><td><div class=\"dni-plaintext\">196</div></td><td><div class=\"dni-plaintext\">4350</div></td><td>MALE</td></tr><tr><td>Adelie</td><td>Dream</td><td><div class=\"dni-plaintext\">43.2</div></td><td><div class=\"dni-plaintext\">18.5</div></td><td><div class=\"dni-plaintext\">192</div></td><td><div class=\"dni-plaintext\">4100</div></td><td>MALE</td></tr><tr><td>Adelie</td><td>Biscoe</td><td><div class=\"dni-plaintext\">35</div></td><td><div class=\"dni-plaintext\">17.9</div></td><td><div class=\"dni-plaintext\">192</div></td><td><div class=\"dni-plaintext\">3725</div></td><td>FEMALE</td></tr><tr><td>Adelie</td><td>Biscoe</td><td><div class=\"dni-plaintext\">37.9</div></td><td><div class=\"dni-plaintext\">18.6</div></td><td><div class=\"dni-plaintext\">193</div></td><td><div class=\"dni-plaintext\">2925</div></td><td>FEMALE</td></tr><tr><td>Adelie</td><td>Biscoe</td><td><div class=\"dni-plaintext\">39.7</div></td><td><div class=\"dni-plaintext\">18.9</div></td><td><div class=\"dni-plaintext\">184</div></td><td><div class=\"dni-plaintext\">3550</div></td><td>MALE</td></tr><tr><td>Adelie</td><td>Biscoe</td><td><div class=\"dni-plaintext\">45.6</div></td><td><div class=\"dni-plaintext\">20.3</div></td><td><div class=\"dni-plaintext\">191</div></td><td><div class=\"dni-plaintext\">4600</div></td><td>MALE</td></tr><tr><td>Adelie</td><td>Biscoe</td><td><div class=\"dni-plaintext\">42.2</div></td><td><div class=\"dni-plaintext\">19.5</div></td><td><div class=\"dni-plaintext\">197</div></td><td><div class=\"dni-plaintext\">4275</div></td><td>MALE</td></tr><tr><td>Adelie</td><td>Torgersen</td><td><div class=\"dni-plaintext\">36.2</div></td><td><div class=\"dni-plaintext\">17.2</div></td><td><div class=\"dni-plaintext\">187</div></td><td><div class=\"dni-plaintext\">3150</div></td><td>FEMALE</td></tr><tr><td>Adelie</td><td>Torgersen</td><td><div class=\"dni-plaintext\">37.7</div></td><td><div class=\"dni-plaintext\">19.8</div></td><td><div class=\"dni-plaintext\">198</div></td><td><div class=\"dni-plaintext\">3500</div></td><td>MALE</td></tr><tr><td>Adelie</td><td>Torgersen</td><td><div class=\"dni-plaintext\">40.2</div></td><td><div class=\"dni-plaintext\">17</div></td><td><div class=\"dni-plaintext\">176</div></td><td><div class=\"dni-plaintext\">3450</div></td><td>FEMALE</td></tr><tr><td>Adelie</td><td>Torgersen</td><td><div class=\"dni-plaintext\">44.1</div></td><td><div class=\"dni-plaintext\">18</div></td><td><div class=\"dni-plaintext\">210</div></td><td><div class=\"dni-plaintext\">4000</div></td><td>MALE</td></tr><tr><td>Adelie</td><td>Dream</td><td><div class=\"dni-plaintext\">36.8</div></td><td><div class=\"dni-plaintext\">18.5</div></td><td><div class=\"dni-plaintext\">193</div></td><td><div class=\"dni-plaintext\">3500</div></td><td>FEMALE</td></tr><tr><td>Adelie</td><td>Dream</td><td><div class=\"dni-plaintext\">37.5</div></td><td><div class=\"dni-plaintext\">18.5</div></td><td><div class=\"dni-plaintext\">199</div></td><td><div class=\"dni-plaintext\">4475</div></td><td>MALE</td></tr><tr><td>Adelie</td><td>Dream</td><td><div class=\"dni-plaintext\">40.2</div></td><td><div class=\"dni-plaintext\">20.1</div></td><td><div class=\"dni-plaintext\">200</div></td><td><div class=\"dni-plaintext\">3975</div></td><td>MALE</td></tr><tr><td>Adelie</td><td>Dream</td><td><div class=\"dni-plaintext\">39</div></td><td><div class=\"dni-plaintext\">18.7</div></td><td><div class=\"dni-plaintext\">185</div></td><td><div class=\"dni-plaintext\">3650</div></td><td>MALE</td></tr><tr><td>Adelie</td><td>Dream</td><td><div class=\"dni-plaintext\">36.6</div></td><td><div class=\"dni-plaintext\">18.4</div></td><td><div class=\"dni-plaintext\">184</div></td><td><div class=\"dni-plaintext\">3475</div></td><td>FEMALE</td></tr><tr><td>Adelie</td><td>Dream</td><td><div class=\"dni-plaintext\">41.5</div></td><td><div class=\"dni-plaintext\">18.5</div></td><td><div class=\"dni-plaintext\">201</div></td><td><div class=\"dni-plaintext\">4000</div></td><td>MALE</td></tr><tr><td>Chinstrap</td><td>Dream</td><td><div class=\"dni-plaintext\">46.5</div></td><td><div class=\"dni-plaintext\">17.9</div></td><td><div class=\"dni-plaintext\">192</div></td><td><div class=\"dni-plaintext\">3500</div></td><td>FEMALE</td></tr><tr><td>Chinstrap</td><td>Dream</td><td><div class=\"dni-plaintext\">52.7</div></td><td><div class=\"dni-plaintext\">19.8</div></td><td><div class=\"dni-plaintext\">197</div></td><td><div class=\"dni-plaintext\">3725</div></td><td>MALE</td></tr><tr><td>Chinstrap</td><td>Dream</td><td><div class=\"dni-plaintext\">51.3</div></td><td><div class=\"dni-plaintext\">19.9</div></td><td><div class=\"dni-plaintext\">198</div></td><td><div class=\"dni-plaintext\">3700</div></td><td>MALE</td></tr><tr><td>Chinstrap</td><td>Dream</td><td><div class=\"dni-plaintext\">47</div></td><td><div class=\"dni-plaintext\">17.3</div></td><td><div class=\"dni-plaintext\">185</div></td><td><div class=\"dni-plaintext\">3700</div></td><td>FEMALE</td></tr><tr><td>Chinstrap</td><td>Dream</td><td><div class=\"dni-plaintext\">58</div></td><td><div class=\"dni-plaintext\">17.8</div></td><td><div class=\"dni-plaintext\">181</div></td><td><div class=\"dni-plaintext\">3700</div></td><td>FEMALE</td></tr><tr><td>Chinstrap</td><td>Dream</td><td><div class=\"dni-plaintext\">48.5</div></td><td><div class=\"dni-plaintext\">17.5</div></td><td><div class=\"dni-plaintext\">191</div></td><td><div class=\"dni-plaintext\">3400</div></td><td>MALE</td></tr><tr><td>Chinstrap</td><td>Dream</td><td><div class=\"dni-plaintext\">43.2</div></td><td><div class=\"dni-plaintext\">16.6</div></td><td><div class=\"dni-plaintext\">187</div></td><td><div class=\"dni-plaintext\">2900</div></td><td>FEMALE</td></tr><tr><td>Chinstrap</td><td>Dream</td><td><div class=\"dni-plaintext\">52</div></td><td><div class=\"dni-plaintext\">19</div></td><td><div class=\"dni-plaintext\">197</div></td><td><div class=\"dni-plaintext\">4150</div></td><td>MALE</td></tr><tr><td>Chinstrap</td><td>Dream</td><td><div class=\"dni-plaintext\">46.4</div></td><td><div class=\"dni-plaintext\">17.8</div></td><td><div class=\"dni-plaintext\">191</div></td><td><div class=\"dni-plaintext\">3700</div></td><td>FEMALE</td></tr><tr><td>Chinstrap</td><td>Dream</td><td><div class=\"dni-plaintext\">52.8</div></td><td><div class=\"dni-plaintext\">20</div></td><td><div class=\"dni-plaintext\">205</div></td><td><div class=\"dni-plaintext\">4550</div></td><td>MALE</td></tr><tr><td>Chinstrap</td><td>Dream</td><td><div class=\"dni-plaintext\">47.5</div></td><td><div class=\"dni-plaintext\">16.8</div></td><td><div class=\"dni-plaintext\">199</div></td><td><div class=\"dni-plaintext\">3900</div></td><td>FEMALE</td></tr><tr><td>Chinstrap</td><td>Dream</td><td><div class=\"dni-plaintext\">47.6</div></td><td><div class=\"dni-plaintext\">18.3</div></td><td><div class=\"dni-plaintext\">195</div></td><td><div class=\"dni-plaintext\">3850</div></td><td>FEMALE</td></tr><tr><td>Chinstrap</td><td>Dream</td><td><div class=\"dni-plaintext\">52</div></td><td><div class=\"dni-plaintext\">20.7</div></td><td><div class=\"dni-plaintext\">210</div></td><td><div class=\"dni-plaintext\">4800</div></td><td>MALE</td></tr><tr><td>Chinstrap</td><td>Dream</td><td><div class=\"dni-plaintext\">53.5</div></td><td><div class=\"dni-plaintext\">19.9</div></td><td><div class=\"dni-plaintext\">205</div></td><td><div class=\"dni-plaintext\">4500</div></td><td>MALE</td></tr><tr><td>Chinstrap</td><td>Dream</td><td><div class=\"dni-plaintext\">49</div></td><td><div class=\"dni-plaintext\">19.6</div></td><td><div class=\"dni-plaintext\">212</div></td><td><div class=\"dni-plaintext\">4300</div></td><td>MALE</td></tr><tr><td>Chinstrap</td><td>Dream</td><td><div class=\"dni-plaintext\">48.1</div></td><td><div class=\"dni-plaintext\">16.4</div></td><td><div class=\"dni-plaintext\">199</div></td><td><div class=\"dni-plaintext\">3325</div></td><td>FEMALE</td></tr><tr><td>Chinstrap</td><td>Dream</td><td><div class=\"dni-plaintext\">50.7</div></td><td><div class=\"dni-plaintext\">19.7</div></td><td><div class=\"dni-plaintext\">203</div></td><td><div class=\"dni-plaintext\">4050</div></td><td>MALE</td></tr><tr><td>Chinstrap</td><td>Dream</td><td><div class=\"dni-plaintext\">42.5</div></td><td><div class=\"dni-plaintext\">17.3</div></td><td><div class=\"dni-plaintext\">187</div></td><td><div class=\"dni-plaintext\">3350</div></td><td>FEMALE</td></tr><tr><td>Chinstrap</td><td>Dream</td><td><div class=\"dni-plaintext\">45.6</div></td><td><div class=\"dni-plaintext\">19.4</div></td><td><div class=\"dni-plaintext\">194</div></td><td><div class=\"dni-plaintext\">3525</div></td><td>FEMALE</td></tr><tr><td>Chinstrap</td><td>Dream</td><td><div class=\"dni-plaintext\">51.9</div></td><td><div class=\"dni-plaintext\">19.5</div></td><td><div class=\"dni-plaintext\">206</div></td><td><div class=\"dni-plaintext\">3950</div></td><td>MALE</td></tr><tr><td>Chinstrap</td><td>Dream</td><td><div class=\"dni-plaintext\">43.5</div></td><td><div class=\"dni-plaintext\">18.1</div></td><td><div class=\"dni-plaintext\">202</div></td><td><div class=\"dni-plaintext\">3400</div></td><td>FEMALE</td></tr><tr><td>Chinstrap</td><td>Dream</td><td><div class=\"dni-plaintext\">50.8</div></td><td><div class=\"dni-plaintext\">19</div></td><td><div class=\"dni-plaintext\">210</div></td><td><div class=\"dni-plaintext\">4100</div></td><td>MALE</td></tr><tr><td>Gentoo</td><td>Biscoe</td><td><div class=\"dni-plaintext\">45.4</div></td><td><div class=\"dni-plaintext\">14.6</div></td><td><div class=\"dni-plaintext\">211</div></td><td><div class=\"dni-plaintext\">4800</div></td><td>FEMALE</td></tr><tr><td>Gentoo</td><td>Biscoe</td><td><div class=\"dni-plaintext\">49.2</div></td><td><div class=\"dni-plaintext\">15.2</div></td><td><div class=\"dni-plaintext\">221</div></td><td><div class=\"dni-plaintext\">6300</div></td><td>MALE</td></tr><tr><td>Gentoo</td><td>Biscoe</td><td><div class=\"dni-plaintext\">46.5</div></td><td><div class=\"dni-plaintext\">14.5</div></td><td><div class=\"dni-plaintext\">213</div></td><td><div class=\"dni-plaintext\">4400</div></td><td>FEMALE</td></tr><tr><td>Gentoo</td><td>Biscoe</td><td><div class=\"dni-plaintext\">44.5</div></td><td><div class=\"dni-plaintext\">14.3</div></td><td><div class=\"dni-plaintext\">216</div></td><td><div class=\"dni-plaintext\">4100</div></td><td>NA</td></tr><tr><td>Gentoo</td><td>Biscoe</td><td><div class=\"dni-plaintext\">47.8</div></td><td><div class=\"dni-plaintext\">15</div></td><td><div class=\"dni-plaintext\">215</div></td><td><div class=\"dni-plaintext\">5650</div></td><td>MALE</td></tr><tr><td>Gentoo</td><td>Biscoe</td><td><div class=\"dni-plaintext\">50</div></td><td><div class=\"dni-plaintext\">15.3</div></td><td><div class=\"dni-plaintext\">220</div></td><td><div class=\"dni-plaintext\">5550</div></td><td>MALE</td></tr><tr><td>Gentoo</td><td>Biscoe</td><td><div class=\"dni-plaintext\">45.1</div></td><td><div class=\"dni-plaintext\">14.5</div></td><td><div class=\"dni-plaintext\">207</div></td><td><div class=\"dni-plaintext\">5050</div></td><td>FEMALE</td></tr><tr><td>Gentoo</td><td>Biscoe</td><td><div class=\"dni-plaintext\">49.1</div></td><td><div class=\"dni-plaintext\">14.8</div></td><td><div class=\"dni-plaintext\">220</div></td><td><div class=\"dni-plaintext\">5150</div></td><td>FEMALE</td></tr><tr><td>Gentoo</td><td>Biscoe</td><td><div class=\"dni-plaintext\">48.7</div></td><td><div class=\"dni-plaintext\">15.7</div></td><td><div class=\"dni-plaintext\">208</div></td><td><div class=\"dni-plaintext\">5350</div></td><td>MALE</td></tr><tr><td>Gentoo</td><td>Biscoe</td><td><div class=\"dni-plaintext\">45.3</div></td><td><div class=\"dni-plaintext\">13.7</div></td><td><div class=\"dni-plaintext\">210</div></td><td><div class=\"dni-plaintext\">4300</div></td><td>FEMALE</td></tr><tr><td>Gentoo</td><td>Biscoe</td><td><div class=\"dni-plaintext\">44.9</div></td><td><div class=\"dni-plaintext\">13.3</div></td><td><div class=\"dni-plaintext\">213</div></td><td><div class=\"dni-plaintext\">5100</div></td><td>FEMALE</td></tr><tr><td>Gentoo</td><td>Biscoe</td><td><div class=\"dni-plaintext\">48.5</div></td><td><div class=\"dni-plaintext\">14.1</div></td><td><div class=\"dni-plaintext\">220</div></td><td><div class=\"dni-plaintext\">5300</div></td><td>MALE</td></tr><tr><td>Gentoo</td><td>Biscoe</td><td><div class=\"dni-plaintext\">45.1</div></td><td><div class=\"dni-plaintext\">14.4</div></td><td><div class=\"dni-plaintext\">210</div></td><td><div class=\"dni-plaintext\">4400</div></td><td>FEMALE</td></tr><tr><td>Gentoo</td><td>Biscoe</td><td><div class=\"dni-plaintext\">45</div></td><td><div class=\"dni-plaintext\">15.4</div></td><td><div class=\"dni-plaintext\">220</div></td><td><div class=\"dni-plaintext\">5050</div></td><td>MALE</td></tr><tr><td>Gentoo</td><td>Biscoe</td><td><div class=\"dni-plaintext\">43.8</div></td><td><div class=\"dni-plaintext\">13.9</div></td><td><div class=\"dni-plaintext\">208</div></td><td><div class=\"dni-plaintext\">4300</div></td><td>FEMALE</td></tr><tr><td>Gentoo</td><td>Biscoe</td><td><div class=\"dni-plaintext\">50.4</div></td><td><div class=\"dni-plaintext\">15.3</div></td><td><div class=\"dni-plaintext\">224</div></td><td><div class=\"dni-plaintext\">5550</div></td><td>MALE</td></tr><tr><td>Gentoo</td><td>Biscoe</td><td><div class=\"dni-plaintext\">45.3</div></td><td><div class=\"dni-plaintext\">13.8</div></td><td><div class=\"dni-plaintext\">208</div></td><td><div class=\"dni-plaintext\">4200</div></td><td>FEMALE</td></tr><tr><td>Gentoo</td><td>Biscoe</td><td><div class=\"dni-plaintext\">54.3</div></td><td><div class=\"dni-plaintext\">15.7</div></td><td><div class=\"dni-plaintext\">231</div></td><td><div class=\"dni-plaintext\">5650</div></td><td>MALE</td></tr><tr><td>Gentoo</td><td>Biscoe</td><td><div class=\"dni-plaintext\">43.5</div></td><td><div class=\"dni-plaintext\">14.2</div></td><td><div class=\"dni-plaintext\">220</div></td><td><div class=\"dni-plaintext\">4700</div></td><td>FEMALE</td></tr><tr><td>Gentoo</td><td>Biscoe</td><td><div class=\"dni-plaintext\">47.7</div></td><td><div class=\"dni-plaintext\">15</div></td><td><div class=\"dni-plaintext\">216</div></td><td><div class=\"dni-plaintext\">4750</div></td><td>FEMALE</td></tr><tr><td>Gentoo</td><td>Biscoe</td><td><div class=\"dni-plaintext\">45.2</div></td><td><div class=\"dni-plaintext\">16.4</div></td><td><div class=\"dni-plaintext\">223</div></td><td><div class=\"dni-plaintext\">5950</div></td><td>MALE</td></tr><tr><td>Gentoo</td><td>Biscoe</td><td><div class=\"dni-plaintext\">50</div></td><td><div class=\"dni-plaintext\">15.9</div></td><td><div class=\"dni-plaintext\">224</div></td><td><div class=\"dni-plaintext\">5350</div></td><td>MALE</td></tr><tr><td>Gentoo</td><td>Biscoe</td><td><div class=\"dni-plaintext\">44.9</div></td><td><div class=\"dni-plaintext\">13.8</div></td><td><div class=\"dni-plaintext\">212</div></td><td><div class=\"dni-plaintext\">4750</div></td><td>FEMALE</td></tr><tr><td>Gentoo</td><td>Biscoe</td><td><div class=\"dni-plaintext\">47.5</div></td><td><div class=\"dni-plaintext\">14</div></td><td><div class=\"dni-plaintext\">212</div></td><td><div class=\"dni-plaintext\">4875</div></td><td>FEMALE</td></tr><tr><td>Gentoo</td><td>Biscoe</td><td><div class=\"dni-plaintext\">52.2</div></td><td><div class=\"dni-plaintext\">17.1</div></td><td><div class=\"dni-plaintext\">228</div></td><td><div class=\"dni-plaintext\">5400</div></td><td>MALE</td></tr><tr><td>Gentoo</td><td>Biscoe</td><td><div class=\"dni-plaintext\">46.9</div></td><td><div class=\"dni-plaintext\">14.6</div></td><td><div class=\"dni-plaintext\">222</div></td><td><div class=\"dni-plaintext\">4875</div></td><td>FEMALE</td></tr><tr><td>Gentoo</td><td>Biscoe</td><td><div class=\"dni-plaintext\">51.1</div></td><td><div class=\"dni-plaintext\">16.5</div></td><td><div class=\"dni-plaintext\">225</div></td><td><div class=\"dni-plaintext\">5250</div></td><td>MALE</td></tr><tr><td>Gentoo</td><td>Biscoe</td><td><div class=\"dni-plaintext\">55.9</div></td><td><div class=\"dni-plaintext\">17</div></td><td><div class=\"dni-plaintext\">228</div></td><td><div class=\"dni-plaintext\">5600</div></td><td>MALE</td></tr><tr><td>Gentoo</td><td>Biscoe</td><td><div class=\"dni-plaintext\">53.4</div></td><td><div class=\"dni-plaintext\">15.8</div></td><td><div class=\"dni-plaintext\">219</div></td><td><div class=\"dni-plaintext\">5500</div></td><td>MALE</td></tr><tr><td>Gentoo</td><td>Biscoe</td><td><div class=\"dni-plaintext\">43.5</div></td><td><div class=\"dni-plaintext\">15.2</div></td><td><div class=\"dni-plaintext\">213</div></td><td><div class=\"dni-plaintext\">4650</div></td><td>FEMALE</td></tr><tr><td>Gentoo</td><td>Biscoe</td><td><div class=\"dni-plaintext\">51.5</div></td><td><div class=\"dni-plaintext\">16.3</div></td><td><div class=\"dni-plaintext\">230</div></td><td><div class=\"dni-plaintext\">5500</div></td><td>MALE</td></tr><tr><td>Gentoo</td><td>Biscoe</td><td><div class=\"dni-plaintext\">47.2</div></td><td><div class=\"dni-plaintext\">13.7</div></td><td><div class=\"dni-plaintext\">214</div></td><td><div class=\"dni-plaintext\">4925</div></td><td>FEMALE</td></tr><tr><td>Gentoo</td><td>Biscoe</td><td><div class=\"dni-plaintext\">49.9</div></td><td><div class=\"dni-plaintext\">16.1</div></td><td><div class=\"dni-plaintext\">213</div></td><td><div class=\"dni-plaintext\">5400</div></td><td>MALE</td></tr></tbody></table>"
      ]
     },
     "metadata": {},
     "output_type": "display_data"
    }
   ],
   "source": [
    "dataSplit.TestSet.ToTabularDataResource()"
   ]
  },
  {
   "cell_type": "code",
   "execution_count": null,
   "metadata": {
    "dotnet_interactive": {
     "language": "csharp"
    },
    "vscode": {
     "languageId": "dotnet-interactive.csharp"
    }
   },
   "outputs": [
    {
     "data": {
      "text/csv": [
       "Label,Island,CulmenLength,CulmenDepth,FliperLength,BodyMass,Sex\r\n",
       "Adelie,Torgersen,39.1,18.7,181,3750,MALE\r\n",
       "Adelie,Torgersen,39.5,17.4,186,3800,FEMALE\r\n",
       "Adelie,Torgersen,40.3,18,195,3250,FEMALE\r\n",
       "Adelie,Torgersen,NaN,NaN,NaN,NaN,NA\r\n",
       "Adelie,Torgersen,36.7,19.3,193,3450,FEMALE\r\n",
       "Adelie,Torgersen,39.2,19.6,195,4675,MALE\r\n",
       "Adelie,Torgersen,34.1,18.1,193,3475,NA\r\n",
       "Adelie,Torgersen,42,20.2,190,4250,NA\r\n",
       "Adelie,Torgersen,37.8,17.3,180,3700,NA\r\n",
       "Adelie,Torgersen,41.1,17.6,182,3200,FEMALE\r\n",
       "Adelie,Torgersen,38.6,21.2,191,3800,MALE\r\n",
       "Adelie,Torgersen,34.6,21.1,198,4400,MALE\r\n",
       "Adelie,Torgersen,36.6,17.8,185,3700,FEMALE\r\n",
       "Adelie,Torgersen,38.7,19,195,3450,FEMALE\r\n",
       "Adelie,Torgersen,42.5,20.7,197,4500,MALE\r\n",
       "Adelie,Torgersen,46,21.5,194,4200,MALE\r\n",
       "Adelie,Biscoe,37.7,18.7,180,3600,MALE\r\n",
       "Adelie,Biscoe,35.9,19.2,189,3800,FEMALE\r\n",
       "Adelie,Biscoe,38.2,18.1,185,3950,MALE\r\n",
       "Adelie,Biscoe,38.8,17.2,180,3800,MALE\r\n",
       "Adelie,Biscoe,35.3,18.9,187,3800,FEMALE\r\n",
       "Adelie,Biscoe,40.6,18.6,183,3550,MALE\r\n",
       "Adelie,Biscoe,40.5,17.9,187,3200,FEMALE\r\n",
       "Adelie,Biscoe,40.5,18.9,180,3950,MALE\r\n",
       "Adelie,Dream,39.5,16.7,178,3250,FEMALE\r\n",
       "Adelie,Dream,40.9,18.9,184,3900,MALE\r\n",
       "Adelie,Dream,36.4,17,195,3325,FEMALE\r\n",
       "Adelie,Dream,39.2,21.1,196,4150,MALE\r\n",
       "Adelie,Dream,38.8,20,190,3950,MALE\r\n",
       "Adelie,Dream,37.6,19.3,181,3300,FEMALE\r\n",
       "Adelie,Dream,39.8,19.1,184,4650,MALE\r\n",
       "Adelie,Dream,40.8,18.4,195,3900,MALE\r\n",
       "Adelie,Dream,36,18.5,186,3100,FEMALE\r\n",
       "Adelie,Dream,44.1,19.7,196,4400,MALE\r\n",
       "Adelie,Dream,37.5,18.9,179,2975,NA\r\n",
       "Adelie,Dream,42.3,21.2,191,4150,MALE\r\n",
       "Adelie,Biscoe,35,17.9,190,3450,FEMALE\r\n",
       "Adelie,Biscoe,42,19.5,200,4050,MALE\r\n",
       "Adelie,Biscoe,34.5,18.1,187,2900,FEMALE\r\n",
       "Adelie,Biscoe,41.4,18.6,191,3700,MALE\r\n",
       "Adelie,Biscoe,39,17.5,186,3550,FEMALE\r\n",
       "Adelie,Biscoe,40.6,18.8,193,3800,MALE\r\n",
       "Adelie,Biscoe,36.5,16.6,181,2850,FEMALE\r\n",
       "Adelie,Biscoe,37.6,19.1,194,3750,MALE\r\n",
       "Adelie,Biscoe,35.7,16.9,185,3150,FEMALE\r\n",
       "Adelie,Biscoe,41.3,21.1,195,4400,MALE\r\n",
       "Adelie,Biscoe,37.6,17,185,3600,FEMALE\r\n",
       "Adelie,Biscoe,41.1,18.2,192,4050,MALE\r\n",
       "Adelie,Biscoe,36.4,17.1,184,2850,FEMALE\r\n",
       "Adelie,Biscoe,41.6,18,192,3950,MALE\r\n",
       "Adelie,Biscoe,35.5,16.2,195,3350,FEMALE\r\n",
       "Adelie,Biscoe,41.1,19.1,188,4100,MALE\r\n",
       "Adelie,Torgersen,41.8,19.4,198,4450,MALE\r\n",
       "Adelie,Torgersen,33.5,19,190,3600,FEMALE\r\n",
       "Adelie,Torgersen,39.6,17.2,196,3550,FEMALE\r\n",
       "Adelie,Torgersen,35.5,17.5,190,3700,FEMALE\r\n",
       "Adelie,Torgersen,42.8,18.5,195,4250,MALE\r\n",
       "Adelie,Torgersen,37.2,19.4,184,3900,MALE\r\n",
       "Adelie,Torgersen,36.2,16.1,187,3550,FEMALE\r\n",
       "Adelie,Torgersen,34.6,17.2,189,3200,FEMALE\r\n",
       "Adelie,Torgersen,42.9,17.6,196,4700,MALE\r\n",
       "Adelie,Torgersen,36.7,18.8,187,3800,FEMALE\r\n",
       "Adelie,Torgersen,35.1,19.4,193,4200,MALE\r\n",
       "Adelie,Dream,37.3,17.8,191,3350,FEMALE\r\n",
       "Adelie,Dream,41.3,20.3,194,3550,MALE\r\n",
       "Adelie,Dream,36.3,19.5,190,3800,MALE\r\n",
       "Adelie,Dream,36.9,18.6,189,3500,FEMALE\r\n",
       "Adelie,Dream,38.3,19.2,189,3950,MALE\r\n",
       "Adelie,Dream,38.9,18.8,190,3600,FEMALE\r\n",
       "Adelie,Dream,35.7,18,202,3550,FEMALE\r\n",
       "Adelie,Dream,34,17.1,185,3400,FEMALE\r\n",
       "Adelie,Dream,36.2,17.3,187,3300,FEMALE\r\n",
       "Adelie,Dream,40.8,18.9,208,4300,MALE\r\n",
       "Adelie,Dream,33.1,16.1,178,2900,FEMALE\r\n",
       "Adelie,Biscoe,41,20,203,4725,MALE\r\n",
       "Adelie,Biscoe,37.7,16,183,3075,FEMALE\r\n",
       "Adelie,Biscoe,37.8,20,190,4250,MALE\r\n",
       "Adelie,Biscoe,38.6,17.2,199,3750,FEMALE\r\n",
       "Adelie,Biscoe,38.2,20,190,3900,MALE\r\n",
       "Adelie,Biscoe,38.1,17,181,3175,FEMALE\r\n",
       "Adelie,Biscoe,43.2,19,197,4775,MALE\r\n",
       "Adelie,Biscoe,38.1,16.5,198,3825,FEMALE\r\n",
       "Adelie,Biscoe,39.7,17.7,193,3200,FEMALE\r\n",
       "Adelie,Biscoe,39.6,20.7,191,3900,FEMALE\r\n",
       "Adelie,Biscoe,42.7,18.3,196,4075,MALE\r\n",
       "Adelie,Torgersen,38.6,17,188,2900,FEMALE\r\n",
       "Adelie,Torgersen,37.3,20.5,199,3775,MALE\r\n",
       "Adelie,Torgersen,35.7,17,189,3350,FEMALE\r\n",
       "Adelie,Torgersen,41.1,18.6,189,3325,MALE\r\n",
       "Adelie,Torgersen,41.4,18.5,202,3875,MALE\r\n",
       "Adelie,Torgersen,35.2,15.9,186,3050,FEMALE\r\n",
       "Adelie,Torgersen,40.6,19,199,4000,MALE\r\n",
       "Adelie,Torgersen,38.8,17.6,191,3275,FEMALE\r\n",
       "Adelie,Torgersen,41.5,18.3,195,4300,MALE\r\n",
       "Adelie,Torgersen,39,17.1,191,3050,FEMALE\r\n",
       "Adelie,Torgersen,38.5,17.9,190,3325,FEMALE\r\n",
       "Adelie,Torgersen,43.1,19.2,197,3500,MALE\r\n",
       "Adelie,Dream,38.1,17.6,187,3425,FEMALE\r\n",
       "Adelie,Dream,41.1,17.5,190,3900,MALE\r\n",
       "Adelie,Dream,35.6,17.5,191,3175,FEMALE\r\n",
       "Adelie,Dream,37,16.5,185,3400,FEMALE\r\n",
       "Adelie,Dream,39.7,17.9,193,4250,MALE\r\n",
       "Adelie,Dream,40.2,17.1,193,3400,FEMALE\r\n",
       "Adelie,Dream,40.6,17.2,187,3475,MALE\r\n",
       "Adelie,Dream,32.1,15.5,188,3050,FEMALE\r\n",
       "Adelie,Dream,40.7,17,190,3725,MALE\r\n",
       "Adelie,Dream,37.3,16.8,192,3000,FEMALE\r\n",
       "Adelie,Dream,39.2,18.6,190,4250,MALE\r\n",
       "Adelie,Dream,36,17.8,195,3450,FEMALE\r\n",
       "Adelie,Dream,37.8,18.1,193,3750,MALE\r\n",
       "Adelie,Dream,36,17.1,187,3700,FEMALE\r\n",
       "Chinstrap,Dream,50,19.5,196,3900,MALE\r\n",
       "Chinstrap,Dream,51.3,19.2,193,3650,MALE\r\n",
       "Chinstrap,Dream,45.4,18.7,188,3525,FEMALE\r\n",
       "Chinstrap,Dream,45.2,17.8,198,3950,FEMALE\r\n",
       "Chinstrap,Dream,46.1,18.2,178,3250,FEMALE\r\n",
       "Chinstrap,Dream,51.3,18.2,197,3750,MALE\r\n",
       "Chinstrap,Dream,46,18.9,195,4150,FEMALE\r\n",
       "Chinstrap,Dream,46.6,17.8,193,3800,FEMALE\r\n",
       "Chinstrap,Dream,51.7,20.3,194,3775,MALE\r\n",
       "Chinstrap,Dream,52,18.1,201,4050,MALE\r\n",
       "Chinstrap,Dream,45.9,17.1,190,3575,FEMALE\r\n",
       "Chinstrap,Dream,50.5,19.6,201,4050,MALE\r\n",
       "Chinstrap,Dream,50.3,20,197,3300,MALE\r\n",
       "Chinstrap,Dream,46.4,18.6,190,3450,FEMALE\r\n",
       "Chinstrap,Dream,49.2,18.2,195,4400,MALE\r\n",
       "Chinstrap,Dream,42.4,17.3,181,3600,FEMALE\r\n",
       "Chinstrap,Dream,50.6,19.4,193,3800,MALE\r\n",
       "Chinstrap,Dream,46.7,17.9,195,3300,FEMALE\r\n",
       "Chinstrap,Dream,50.5,18.4,200,3400,FEMALE\r\n",
       "Chinstrap,Dream,49.5,19,200,3800,MALE\r\n",
       "Chinstrap,Dream,40.9,16.6,187,3200,FEMALE\r\n",
       "Chinstrap,Dream,54.2,20.8,201,4300,MALE\r\n",
       "Chinstrap,Dream,42.5,16.7,187,3350,FEMALE\r\n",
       "Chinstrap,Dream,51,18.8,203,4100,MALE\r\n",
       "Chinstrap,Dream,49.7,18.6,195,3600,MALE\r\n",
       "Chinstrap,Dream,46.9,16.6,192,2700,FEMALE\r\n",
       "Chinstrap,Dream,49,19.5,210,3950,MALE\r\n",
       "Chinstrap,Dream,46.2,17.5,187,3650,FEMALE\r\n",
       "Chinstrap,Dream,50.9,19.1,196,3550,MALE\r\n",
       "Chinstrap,Dream,45.5,17,196,3500,FEMALE\r\n",
       "Chinstrap,Dream,50.9,17.9,196,3675,FEMALE\r\n",
       "Chinstrap,Dream,50.8,18.5,201,4450,MALE\r\n",
       "Chinstrap,Dream,50.1,17.9,190,3400,FEMALE\r\n",
       "Chinstrap,Dream,51.5,18.7,187,3250,MALE\r\n",
       "Chinstrap,Dream,49.8,17.3,198,3675,FEMALE\r\n",
       "Chinstrap,Dream,51.4,19,201,3950,MALE\r\n",
       "Chinstrap,Dream,45.7,17.3,193,3600,FEMALE\r\n",
       "Chinstrap,Dream,52.2,18.8,197,3450,MALE\r\n",
       "Chinstrap,Dream,45.2,16.6,191,3250,FEMALE\r\n",
       "Chinstrap,Dream,49.3,19.9,203,4050,MALE\r\n",
       "Chinstrap,Dream,50.2,18.8,202,3800,MALE\r\n",
       "Chinstrap,Dream,46.8,16.5,189,3650,FEMALE\r\n",
       "Chinstrap,Dream,45.7,17,195,3650,FEMALE\r\n",
       "Chinstrap,Dream,55.8,19.8,207,4000,MALE\r\n",
       "Chinstrap,Dream,49.6,18.2,193,3775,MALE\r\n",
       "Chinstrap,Dream,50.2,18.7,198,3775,FEMALE\r\n",
       "Gentoo,Biscoe,46.1,13.2,211,4500,FEMALE\r\n",
       "Gentoo,Biscoe,50,16.3,230,5700,MALE\r\n",
       "Gentoo,Biscoe,48.7,14.1,210,4450,FEMALE\r\n",
       "Gentoo,Biscoe,50,15.2,218,5700,MALE\r\n",
       "Gentoo,Biscoe,47.6,14.5,215,5400,MALE\r\n",
       "Gentoo,Biscoe,46.5,13.5,210,4550,FEMALE\r\n",
       "Gentoo,Biscoe,46.7,15.3,219,5200,MALE\r\n",
       "Gentoo,Biscoe,43.3,13.4,209,4400,FEMALE\r\n",
       "Gentoo,Biscoe,46.8,15.4,215,5150,MALE\r\n",
       "Gentoo,Biscoe,40.9,13.7,214,4650,FEMALE\r\n",
       "Gentoo,Biscoe,49,16.1,216,5550,MALE\r\n",
       "Gentoo,Biscoe,45.5,13.7,214,4650,FEMALE\r\n",
       "Gentoo,Biscoe,48.4,14.6,213,5850,MALE\r\n",
       "Gentoo,Biscoe,45.8,14.6,210,4200,FEMALE\r\n",
       "Gentoo,Biscoe,49.3,15.7,217,5850,MALE\r\n",
       "Gentoo,Biscoe,42,13.5,210,4150,FEMALE\r\n",
       "Gentoo,Biscoe,46.2,14.5,209,4800,FEMALE\r\n",
       "Gentoo,Biscoe,48.7,15.1,222,5350,MALE\r\n",
       "Gentoo,Biscoe,50.2,14.3,218,5700,MALE\r\n",
       "Gentoo,Biscoe,45.1,14.5,215,5000,FEMALE\r\n",
       "Gentoo,Biscoe,46.3,15.8,215,5050,MALE\r\n",
       "Gentoo,Biscoe,42.9,13.1,215,5000,FEMALE\r\n",
       "Gentoo,Biscoe,46.1,15.1,215,5100,MALE\r\n",
       "Gentoo,Biscoe,48.2,14.3,210,4600,FEMALE\r\n",
       "Gentoo,Biscoe,47.3,15.3,222,5250,MALE\r\n",
       "Gentoo,Biscoe,42.8,14.2,209,4700,FEMALE\r\n",
       "Gentoo,Biscoe,59.6,17,230,6050,MALE\r\n",
       "Gentoo,Biscoe,48.4,16.3,220,5400,MALE\r\n",
       "Gentoo,Biscoe,42.6,13.7,213,4950,FEMALE\r\n",
       "Gentoo,Biscoe,44.4,17.3,219,5250,MALE\r\n",
       "Gentoo,Biscoe,44,13.6,208,4350,FEMALE\r\n",
       "Gentoo,Biscoe,42.7,13.7,208,3950,FEMALE\r\n",
       "Gentoo,Biscoe,49.6,16,225,5700,MALE\r\n",
       "Gentoo,Biscoe,49.6,15,216,4750,MALE\r\n",
       "Gentoo,Biscoe,50.5,15.9,222,5550,MALE\r\n",
       "Gentoo,Biscoe,43.6,13.9,217,4900,FEMALE\r\n",
       "Gentoo,Biscoe,45.5,13.9,210,4200,FEMALE\r\n",
       "Gentoo,Biscoe,50.5,15.9,225,5400,MALE\r\n",
       "Gentoo,Biscoe,45.2,15.8,215,5300,MALE\r\n",
       "Gentoo,Biscoe,46.6,14.2,210,4850,FEMALE\r\n",
       "Gentoo,Biscoe,50.1,15,225,5000,MALE\r\n",
       "Gentoo,Biscoe,46.5,14.4,217,4900,FEMALE\r\n",
       "Gentoo,Biscoe,45.5,15,220,5000,MALE\r\n",
       "Gentoo,Biscoe,43.2,14.5,208,4450,FEMALE\r\n",
       "Gentoo,Biscoe,46.2,14.9,221,5300,MALE\r\n",
       "Gentoo,Biscoe,45.7,13.9,214,4400,FEMALE\r\n",
       "Gentoo,Biscoe,45.8,14.2,219,4700,FEMALE\r\n",
       "Gentoo,Biscoe,49.8,16.8,230,5700,MALE\r\n",
       "Gentoo,Biscoe,46.2,14.4,214,4650,NA\r\n",
       "Gentoo,Biscoe,49.5,16.2,229,5800,MALE\r\n",
       "Gentoo,Biscoe,50.7,15,223,5550,MALE\r\n",
       "Gentoo,Biscoe,46.4,15.6,221,5000,MALE\r\n",
       "Gentoo,Biscoe,48.2,15.6,221,5100,MALE\r\n",
       "Gentoo,Biscoe,46.5,14.8,217,5200,FEMALE\r\n",
       "Gentoo,Biscoe,46.4,15,216,4700,FEMALE\r\n",
       "Gentoo,Biscoe,48.6,16,230,5800,MALE\r\n",
       "Gentoo,Biscoe,47.5,14.2,209,4600,FEMALE\r\n",
       "Gentoo,Biscoe,51.1,16.3,220,6000,MALE\r\n",
       "Gentoo,Biscoe,45.2,13.8,215,4750,FEMALE\r\n",
       "Gentoo,Biscoe,49.1,14.5,212,4625,FEMALE\r\n",
       "Gentoo,Biscoe,52.5,15.6,221,5450,MALE\r\n",
       "Gentoo,Biscoe,47.4,14.6,212,4725,FEMALE\r\n",
       "Gentoo,Biscoe,50.8,17.3,228,5600,MALE\r\n",
       "Gentoo,Biscoe,43.4,14.4,218,4600,FEMALE\r\n",
       "Gentoo,Biscoe,51.3,14.2,218,5300,MALE\r\n",
       "Gentoo,Biscoe,52.1,17,230,5550,MALE\r\n",
       "Gentoo,Biscoe,47.5,15,218,4950,FEMALE\r\n",
       "Gentoo,Biscoe,45.5,14.5,212,4750,FEMALE\r\n",
       "Gentoo,Biscoe,49.5,16.1,224,5650,MALE\r\n",
       "Gentoo,Biscoe,44.5,14.7,214,4850,FEMALE\r\n",
       "Gentoo,Biscoe,50.8,15.7,226,5200,MALE\r\n",
       "Gentoo,Biscoe,49.4,15.8,216,4925,MALE\r\n",
       "Gentoo,Biscoe,48.4,14.4,203,4625,FEMALE\r\n",
       "Gentoo,Biscoe,48.5,15,219,4850,FEMALE\r\n",
       "Gentoo,Biscoe,47.2,15.5,215,4975,FEMALE\r\n",
       "Gentoo,Biscoe,49.1,15,228,5500,MALE\r\n",
       "Gentoo,Biscoe,47.3,13.8,216,4725,NA\r\n",
       "Gentoo,Biscoe,46.8,16.1,215,5500,MALE\r\n",
       "Gentoo,Biscoe,41.7,14.7,210,4700,FEMALE\r\n",
       "Gentoo,Biscoe,43.3,14,208,4575,FEMALE\r\n",
       "Gentoo,Biscoe,48.1,15.1,209,5500,MALE\r\n",
       "Gentoo,Biscoe,50.5,15.2,216,5000,FEMALE\r\n",
       "Gentoo,Biscoe,49.8,15.9,229,5950,MALE\r\n",
       "Gentoo,Biscoe,46.2,14.1,217,4375,FEMALE\r\n",
       "Gentoo,Biscoe,55.1,16,230,5850,MALE\r\n",
       "Gentoo,Biscoe,44.5,15.7,217,4875,.\r\n",
       "Gentoo,Biscoe,48.8,16.2,222,6000,MALE\r\n",
       "Gentoo,Biscoe,NaN,NaN,NaN,NaN,NA\r\n",
       "Gentoo,Biscoe,46.8,14.3,215,4850,FEMALE\r\n",
       "Gentoo,Biscoe,50.4,15.7,222,5750,MALE\r\n",
       "Gentoo,Biscoe,45.2,14.8,212,5200,FEMALE\r\n"
      ],
      "text/html": [
       "<table><thead><tr><td><span>Label</span></td><td><span>Island</span></td><td><span>CulmenLength</span></td><td><span>CulmenDepth</span></td><td><span>FliperLength</span></td><td><span>BodyMass</span></td><td><span>Sex</span></td></tr></thead><tbody><tr><td>Adelie</td><td>Torgersen</td><td><div class=\"dni-plaintext\">39.1</div></td><td><div class=\"dni-plaintext\">18.7</div></td><td><div class=\"dni-plaintext\">181</div></td><td><div class=\"dni-plaintext\">3750</div></td><td>MALE</td></tr><tr><td>Adelie</td><td>Torgersen</td><td><div class=\"dni-plaintext\">39.5</div></td><td><div class=\"dni-plaintext\">17.4</div></td><td><div class=\"dni-plaintext\">186</div></td><td><div class=\"dni-plaintext\">3800</div></td><td>FEMALE</td></tr><tr><td>Adelie</td><td>Torgersen</td><td><div class=\"dni-plaintext\">40.3</div></td><td><div class=\"dni-plaintext\">18</div></td><td><div class=\"dni-plaintext\">195</div></td><td><div class=\"dni-plaintext\">3250</div></td><td>FEMALE</td></tr><tr><td>Adelie</td><td>Torgersen</td><td><div class=\"dni-plaintext\">NaN</div></td><td><div class=\"dni-plaintext\">NaN</div></td><td><div class=\"dni-plaintext\">NaN</div></td><td><div class=\"dni-plaintext\">NaN</div></td><td>NA</td></tr><tr><td>Adelie</td><td>Torgersen</td><td><div class=\"dni-plaintext\">36.7</div></td><td><div class=\"dni-plaintext\">19.3</div></td><td><div class=\"dni-plaintext\">193</div></td><td><div class=\"dni-plaintext\">3450</div></td><td>FEMALE</td></tr><tr><td>Adelie</td><td>Torgersen</td><td><div class=\"dni-plaintext\">39.2</div></td><td><div class=\"dni-plaintext\">19.6</div></td><td><div class=\"dni-plaintext\">195</div></td><td><div class=\"dni-plaintext\">4675</div></td><td>MALE</td></tr><tr><td>Adelie</td><td>Torgersen</td><td><div class=\"dni-plaintext\">34.1</div></td><td><div class=\"dni-plaintext\">18.1</div></td><td><div class=\"dni-plaintext\">193</div></td><td><div class=\"dni-plaintext\">3475</div></td><td>NA</td></tr><tr><td>Adelie</td><td>Torgersen</td><td><div class=\"dni-plaintext\">42</div></td><td><div class=\"dni-plaintext\">20.2</div></td><td><div class=\"dni-plaintext\">190</div></td><td><div class=\"dni-plaintext\">4250</div></td><td>NA</td></tr><tr><td>Adelie</td><td>Torgersen</td><td><div class=\"dni-plaintext\">37.8</div></td><td><div class=\"dni-plaintext\">17.3</div></td><td><div class=\"dni-plaintext\">180</div></td><td><div class=\"dni-plaintext\">3700</div></td><td>NA</td></tr><tr><td>Adelie</td><td>Torgersen</td><td><div class=\"dni-plaintext\">41.1</div></td><td><div class=\"dni-plaintext\">17.6</div></td><td><div class=\"dni-plaintext\">182</div></td><td><div class=\"dni-plaintext\">3200</div></td><td>FEMALE</td></tr><tr><td>Adelie</td><td>Torgersen</td><td><div class=\"dni-plaintext\">38.6</div></td><td><div class=\"dni-plaintext\">21.2</div></td><td><div class=\"dni-plaintext\">191</div></td><td><div class=\"dni-plaintext\">3800</div></td><td>MALE</td></tr><tr><td>Adelie</td><td>Torgersen</td><td><div class=\"dni-plaintext\">34.6</div></td><td><div class=\"dni-plaintext\">21.1</div></td><td><div class=\"dni-plaintext\">198</div></td><td><div class=\"dni-plaintext\">4400</div></td><td>MALE</td></tr><tr><td>Adelie</td><td>Torgersen</td><td><div class=\"dni-plaintext\">36.6</div></td><td><div class=\"dni-plaintext\">17.8</div></td><td><div class=\"dni-plaintext\">185</div></td><td><div class=\"dni-plaintext\">3700</div></td><td>FEMALE</td></tr><tr><td>Adelie</td><td>Torgersen</td><td><div class=\"dni-plaintext\">38.7</div></td><td><div class=\"dni-plaintext\">19</div></td><td><div class=\"dni-plaintext\">195</div></td><td><div class=\"dni-plaintext\">3450</div></td><td>FEMALE</td></tr><tr><td>Adelie</td><td>Torgersen</td><td><div class=\"dni-plaintext\">42.5</div></td><td><div class=\"dni-plaintext\">20.7</div></td><td><div class=\"dni-plaintext\">197</div></td><td><div class=\"dni-plaintext\">4500</div></td><td>MALE</td></tr><tr><td>Adelie</td><td>Torgersen</td><td><div class=\"dni-plaintext\">46</div></td><td><div class=\"dni-plaintext\">21.5</div></td><td><div class=\"dni-plaintext\">194</div></td><td><div class=\"dni-plaintext\">4200</div></td><td>MALE</td></tr><tr><td>Adelie</td><td>Biscoe</td><td><div class=\"dni-plaintext\">37.7</div></td><td><div class=\"dni-plaintext\">18.7</div></td><td><div class=\"dni-plaintext\">180</div></td><td><div class=\"dni-plaintext\">3600</div></td><td>MALE</td></tr><tr><td>Adelie</td><td>Biscoe</td><td><div class=\"dni-plaintext\">35.9</div></td><td><div class=\"dni-plaintext\">19.2</div></td><td><div class=\"dni-plaintext\">189</div></td><td><div class=\"dni-plaintext\">3800</div></td><td>FEMALE</td></tr><tr><td>Adelie</td><td>Biscoe</td><td><div class=\"dni-plaintext\">38.2</div></td><td><div class=\"dni-plaintext\">18.1</div></td><td><div class=\"dni-plaintext\">185</div></td><td><div class=\"dni-plaintext\">3950</div></td><td>MALE</td></tr><tr><td>Adelie</td><td>Biscoe</td><td><div class=\"dni-plaintext\">38.8</div></td><td><div class=\"dni-plaintext\">17.2</div></td><td><div class=\"dni-plaintext\">180</div></td><td><div class=\"dni-plaintext\">3800</div></td><td>MALE</td></tr><tr><td>Adelie</td><td>Biscoe</td><td><div class=\"dni-plaintext\">35.3</div></td><td><div class=\"dni-plaintext\">18.9</div></td><td><div class=\"dni-plaintext\">187</div></td><td><div class=\"dni-plaintext\">3800</div></td><td>FEMALE</td></tr><tr><td>Adelie</td><td>Biscoe</td><td><div class=\"dni-plaintext\">40.6</div></td><td><div class=\"dni-plaintext\">18.6</div></td><td><div class=\"dni-plaintext\">183</div></td><td><div class=\"dni-plaintext\">3550</div></td><td>MALE</td></tr><tr><td>Adelie</td><td>Biscoe</td><td><div class=\"dni-plaintext\">40.5</div></td><td><div class=\"dni-plaintext\">17.9</div></td><td><div class=\"dni-plaintext\">187</div></td><td><div class=\"dni-plaintext\">3200</div></td><td>FEMALE</td></tr><tr><td>Adelie</td><td>Biscoe</td><td><div class=\"dni-plaintext\">40.5</div></td><td><div class=\"dni-plaintext\">18.9</div></td><td><div class=\"dni-plaintext\">180</div></td><td><div class=\"dni-plaintext\">3950</div></td><td>MALE</td></tr><tr><td>Adelie</td><td>Dream</td><td><div class=\"dni-plaintext\">39.5</div></td><td><div class=\"dni-plaintext\">16.7</div></td><td><div class=\"dni-plaintext\">178</div></td><td><div class=\"dni-plaintext\">3250</div></td><td>FEMALE</td></tr><tr><td>Adelie</td><td>Dream</td><td><div class=\"dni-plaintext\">40.9</div></td><td><div class=\"dni-plaintext\">18.9</div></td><td><div class=\"dni-plaintext\">184</div></td><td><div class=\"dni-plaintext\">3900</div></td><td>MALE</td></tr><tr><td>Adelie</td><td>Dream</td><td><div class=\"dni-plaintext\">36.4</div></td><td><div class=\"dni-plaintext\">17</div></td><td><div class=\"dni-plaintext\">195</div></td><td><div class=\"dni-plaintext\">3325</div></td><td>FEMALE</td></tr><tr><td>Adelie</td><td>Dream</td><td><div class=\"dni-plaintext\">39.2</div></td><td><div class=\"dni-plaintext\">21.1</div></td><td><div class=\"dni-plaintext\">196</div></td><td><div class=\"dni-plaintext\">4150</div></td><td>MALE</td></tr><tr><td>Adelie</td><td>Dream</td><td><div class=\"dni-plaintext\">38.8</div></td><td><div class=\"dni-plaintext\">20</div></td><td><div class=\"dni-plaintext\">190</div></td><td><div class=\"dni-plaintext\">3950</div></td><td>MALE</td></tr><tr><td>Adelie</td><td>Dream</td><td><div class=\"dni-plaintext\">37.6</div></td><td><div class=\"dni-plaintext\">19.3</div></td><td><div class=\"dni-plaintext\">181</div></td><td><div class=\"dni-plaintext\">3300</div></td><td>FEMALE</td></tr><tr><td>Adelie</td><td>Dream</td><td><div class=\"dni-plaintext\">39.8</div></td><td><div class=\"dni-plaintext\">19.1</div></td><td><div class=\"dni-plaintext\">184</div></td><td><div class=\"dni-plaintext\">4650</div></td><td>MALE</td></tr><tr><td>Adelie</td><td>Dream</td><td><div class=\"dni-plaintext\">40.8</div></td><td><div class=\"dni-plaintext\">18.4</div></td><td><div class=\"dni-plaintext\">195</div></td><td><div class=\"dni-plaintext\">3900</div></td><td>MALE</td></tr><tr><td>Adelie</td><td>Dream</td><td><div class=\"dni-plaintext\">36</div></td><td><div class=\"dni-plaintext\">18.5</div></td><td><div class=\"dni-plaintext\">186</div></td><td><div class=\"dni-plaintext\">3100</div></td><td>FEMALE</td></tr><tr><td>Adelie</td><td>Dream</td><td><div class=\"dni-plaintext\">44.1</div></td><td><div class=\"dni-plaintext\">19.7</div></td><td><div class=\"dni-plaintext\">196</div></td><td><div class=\"dni-plaintext\">4400</div></td><td>MALE</td></tr><tr><td>Adelie</td><td>Dream</td><td><div class=\"dni-plaintext\">37.5</div></td><td><div class=\"dni-plaintext\">18.9</div></td><td><div class=\"dni-plaintext\">179</div></td><td><div class=\"dni-plaintext\">2975</div></td><td>NA</td></tr><tr><td>Adelie</td><td>Dream</td><td><div class=\"dni-plaintext\">42.3</div></td><td><div class=\"dni-plaintext\">21.2</div></td><td><div class=\"dni-plaintext\">191</div></td><td><div class=\"dni-plaintext\">4150</div></td><td>MALE</td></tr><tr><td>Adelie</td><td>Biscoe</td><td><div class=\"dni-plaintext\">35</div></td><td><div class=\"dni-plaintext\">17.9</div></td><td><div class=\"dni-plaintext\">190</div></td><td><div class=\"dni-plaintext\">3450</div></td><td>FEMALE</td></tr><tr><td>Adelie</td><td>Biscoe</td><td><div class=\"dni-plaintext\">42</div></td><td><div class=\"dni-plaintext\">19.5</div></td><td><div class=\"dni-plaintext\">200</div></td><td><div class=\"dni-plaintext\">4050</div></td><td>MALE</td></tr><tr><td>Adelie</td><td>Biscoe</td><td><div class=\"dni-plaintext\">34.5</div></td><td><div class=\"dni-plaintext\">18.1</div></td><td><div class=\"dni-plaintext\">187</div></td><td><div class=\"dni-plaintext\">2900</div></td><td>FEMALE</td></tr><tr><td>Adelie</td><td>Biscoe</td><td><div class=\"dni-plaintext\">41.4</div></td><td><div class=\"dni-plaintext\">18.6</div></td><td><div class=\"dni-plaintext\">191</div></td><td><div class=\"dni-plaintext\">3700</div></td><td>MALE</td></tr><tr><td>Adelie</td><td>Biscoe</td><td><div class=\"dni-plaintext\">39</div></td><td><div class=\"dni-plaintext\">17.5</div></td><td><div class=\"dni-plaintext\">186</div></td><td><div class=\"dni-plaintext\">3550</div></td><td>FEMALE</td></tr><tr><td>Adelie</td><td>Biscoe</td><td><div class=\"dni-plaintext\">40.6</div></td><td><div class=\"dni-plaintext\">18.8</div></td><td><div class=\"dni-plaintext\">193</div></td><td><div class=\"dni-plaintext\">3800</div></td><td>MALE</td></tr><tr><td>Adelie</td><td>Biscoe</td><td><div class=\"dni-plaintext\">36.5</div></td><td><div class=\"dni-plaintext\">16.6</div></td><td><div class=\"dni-plaintext\">181</div></td><td><div class=\"dni-plaintext\">2850</div></td><td>FEMALE</td></tr><tr><td>Adelie</td><td>Biscoe</td><td><div class=\"dni-plaintext\">37.6</div></td><td><div class=\"dni-plaintext\">19.1</div></td><td><div class=\"dni-plaintext\">194</div></td><td><div class=\"dni-plaintext\">3750</div></td><td>MALE</td></tr><tr><td>Adelie</td><td>Biscoe</td><td><div class=\"dni-plaintext\">35.7</div></td><td><div class=\"dni-plaintext\">16.9</div></td><td><div class=\"dni-plaintext\">185</div></td><td><div class=\"dni-plaintext\">3150</div></td><td>FEMALE</td></tr><tr><td>Adelie</td><td>Biscoe</td><td><div class=\"dni-plaintext\">41.3</div></td><td><div class=\"dni-plaintext\">21.1</div></td><td><div class=\"dni-plaintext\">195</div></td><td><div class=\"dni-plaintext\">4400</div></td><td>MALE</td></tr><tr><td>Adelie</td><td>Biscoe</td><td><div class=\"dni-plaintext\">37.6</div></td><td><div class=\"dni-plaintext\">17</div></td><td><div class=\"dni-plaintext\">185</div></td><td><div class=\"dni-plaintext\">3600</div></td><td>FEMALE</td></tr><tr><td>Adelie</td><td>Biscoe</td><td><div class=\"dni-plaintext\">41.1</div></td><td><div class=\"dni-plaintext\">18.2</div></td><td><div class=\"dni-plaintext\">192</div></td><td><div class=\"dni-plaintext\">4050</div></td><td>MALE</td></tr><tr><td>Adelie</td><td>Biscoe</td><td><div class=\"dni-plaintext\">36.4</div></td><td><div class=\"dni-plaintext\">17.1</div></td><td><div class=\"dni-plaintext\">184</div></td><td><div class=\"dni-plaintext\">2850</div></td><td>FEMALE</td></tr><tr><td>Adelie</td><td>Biscoe</td><td><div class=\"dni-plaintext\">41.6</div></td><td><div class=\"dni-plaintext\">18</div></td><td><div class=\"dni-plaintext\">192</div></td><td><div class=\"dni-plaintext\">3950</div></td><td>MALE</td></tr><tr><td>Adelie</td><td>Biscoe</td><td><div class=\"dni-plaintext\">35.5</div></td><td><div class=\"dni-plaintext\">16.2</div></td><td><div class=\"dni-plaintext\">195</div></td><td><div class=\"dni-plaintext\">3350</div></td><td>FEMALE</td></tr><tr><td>Adelie</td><td>Biscoe</td><td><div class=\"dni-plaintext\">41.1</div></td><td><div class=\"dni-plaintext\">19.1</div></td><td><div class=\"dni-plaintext\">188</div></td><td><div class=\"dni-plaintext\">4100</div></td><td>MALE</td></tr><tr><td>Adelie</td><td>Torgersen</td><td><div class=\"dni-plaintext\">41.8</div></td><td><div class=\"dni-plaintext\">19.4</div></td><td><div class=\"dni-plaintext\">198</div></td><td><div class=\"dni-plaintext\">4450</div></td><td>MALE</td></tr><tr><td>Adelie</td><td>Torgersen</td><td><div class=\"dni-plaintext\">33.5</div></td><td><div class=\"dni-plaintext\">19</div></td><td><div class=\"dni-plaintext\">190</div></td><td><div class=\"dni-plaintext\">3600</div></td><td>FEMALE</td></tr><tr><td>Adelie</td><td>Torgersen</td><td><div class=\"dni-plaintext\">39.6</div></td><td><div class=\"dni-plaintext\">17.2</div></td><td><div class=\"dni-plaintext\">196</div></td><td><div class=\"dni-plaintext\">3550</div></td><td>FEMALE</td></tr><tr><td>Adelie</td><td>Torgersen</td><td><div class=\"dni-plaintext\">35.5</div></td><td><div class=\"dni-plaintext\">17.5</div></td><td><div class=\"dni-plaintext\">190</div></td><td><div class=\"dni-plaintext\">3700</div></td><td>FEMALE</td></tr><tr><td>Adelie</td><td>Torgersen</td><td><div class=\"dni-plaintext\">42.8</div></td><td><div class=\"dni-plaintext\">18.5</div></td><td><div class=\"dni-plaintext\">195</div></td><td><div class=\"dni-plaintext\">4250</div></td><td>MALE</td></tr><tr><td>Adelie</td><td>Torgersen</td><td><div class=\"dni-plaintext\">37.2</div></td><td><div class=\"dni-plaintext\">19.4</div></td><td><div class=\"dni-plaintext\">184</div></td><td><div class=\"dni-plaintext\">3900</div></td><td>MALE</td></tr><tr><td>Adelie</td><td>Torgersen</td><td><div class=\"dni-plaintext\">36.2</div></td><td><div class=\"dni-plaintext\">16.1</div></td><td><div class=\"dni-plaintext\">187</div></td><td><div class=\"dni-plaintext\">3550</div></td><td>FEMALE</td></tr><tr><td>Adelie</td><td>Torgersen</td><td><div class=\"dni-plaintext\">34.6</div></td><td><div class=\"dni-plaintext\">17.2</div></td><td><div class=\"dni-plaintext\">189</div></td><td><div class=\"dni-plaintext\">3200</div></td><td>FEMALE</td></tr><tr><td>Adelie</td><td>Torgersen</td><td><div class=\"dni-plaintext\">42.9</div></td><td><div class=\"dni-plaintext\">17.6</div></td><td><div class=\"dni-plaintext\">196</div></td><td><div class=\"dni-plaintext\">4700</div></td><td>MALE</td></tr><tr><td>Adelie</td><td>Torgersen</td><td><div class=\"dni-plaintext\">36.7</div></td><td><div class=\"dni-plaintext\">18.8</div></td><td><div class=\"dni-plaintext\">187</div></td><td><div class=\"dni-plaintext\">3800</div></td><td>FEMALE</td></tr><tr><td>Adelie</td><td>Torgersen</td><td><div class=\"dni-plaintext\">35.1</div></td><td><div class=\"dni-plaintext\">19.4</div></td><td><div class=\"dni-plaintext\">193</div></td><td><div class=\"dni-plaintext\">4200</div></td><td>MALE</td></tr><tr><td>Adelie</td><td>Dream</td><td><div class=\"dni-plaintext\">37.3</div></td><td><div class=\"dni-plaintext\">17.8</div></td><td><div class=\"dni-plaintext\">191</div></td><td><div class=\"dni-plaintext\">3350</div></td><td>FEMALE</td></tr><tr><td>Adelie</td><td>Dream</td><td><div class=\"dni-plaintext\">41.3</div></td><td><div class=\"dni-plaintext\">20.3</div></td><td><div class=\"dni-plaintext\">194</div></td><td><div class=\"dni-plaintext\">3550</div></td><td>MALE</td></tr><tr><td>Adelie</td><td>Dream</td><td><div class=\"dni-plaintext\">36.3</div></td><td><div class=\"dni-plaintext\">19.5</div></td><td><div class=\"dni-plaintext\">190</div></td><td><div class=\"dni-plaintext\">3800</div></td><td>MALE</td></tr><tr><td>Adelie</td><td>Dream</td><td><div class=\"dni-plaintext\">36.9</div></td><td><div class=\"dni-plaintext\">18.6</div></td><td><div class=\"dni-plaintext\">189</div></td><td><div class=\"dni-plaintext\">3500</div></td><td>FEMALE</td></tr><tr><td>Adelie</td><td>Dream</td><td><div class=\"dni-plaintext\">38.3</div></td><td><div class=\"dni-plaintext\">19.2</div></td><td><div class=\"dni-plaintext\">189</div></td><td><div class=\"dni-plaintext\">3950</div></td><td>MALE</td></tr><tr><td>Adelie</td><td>Dream</td><td><div class=\"dni-plaintext\">38.9</div></td><td><div class=\"dni-plaintext\">18.8</div></td><td><div class=\"dni-plaintext\">190</div></td><td><div class=\"dni-plaintext\">3600</div></td><td>FEMALE</td></tr><tr><td>Adelie</td><td>Dream</td><td><div class=\"dni-plaintext\">35.7</div></td><td><div class=\"dni-plaintext\">18</div></td><td><div class=\"dni-plaintext\">202</div></td><td><div class=\"dni-plaintext\">3550</div></td><td>FEMALE</td></tr><tr><td>Adelie</td><td>Dream</td><td><div class=\"dni-plaintext\">34</div></td><td><div class=\"dni-plaintext\">17.1</div></td><td><div class=\"dni-plaintext\">185</div></td><td><div class=\"dni-plaintext\">3400</div></td><td>FEMALE</td></tr><tr><td>Adelie</td><td>Dream</td><td><div class=\"dni-plaintext\">36.2</div></td><td><div class=\"dni-plaintext\">17.3</div></td><td><div class=\"dni-plaintext\">187</div></td><td><div class=\"dni-plaintext\">3300</div></td><td>FEMALE</td></tr><tr><td>Adelie</td><td>Dream</td><td><div class=\"dni-plaintext\">40.8</div></td><td><div class=\"dni-plaintext\">18.9</div></td><td><div class=\"dni-plaintext\">208</div></td><td><div class=\"dni-plaintext\">4300</div></td><td>MALE</td></tr><tr><td>Adelie</td><td>Dream</td><td><div class=\"dni-plaintext\">33.1</div></td><td><div class=\"dni-plaintext\">16.1</div></td><td><div class=\"dni-plaintext\">178</div></td><td><div class=\"dni-plaintext\">2900</div></td><td>FEMALE</td></tr><tr><td>Adelie</td><td>Biscoe</td><td><div class=\"dni-plaintext\">41</div></td><td><div class=\"dni-plaintext\">20</div></td><td><div class=\"dni-plaintext\">203</div></td><td><div class=\"dni-plaintext\">4725</div></td><td>MALE</td></tr><tr><td>Adelie</td><td>Biscoe</td><td><div class=\"dni-plaintext\">37.7</div></td><td><div class=\"dni-plaintext\">16</div></td><td><div class=\"dni-plaintext\">183</div></td><td><div class=\"dni-plaintext\">3075</div></td><td>FEMALE</td></tr><tr><td>Adelie</td><td>Biscoe</td><td><div class=\"dni-plaintext\">37.8</div></td><td><div class=\"dni-plaintext\">20</div></td><td><div class=\"dni-plaintext\">190</div></td><td><div class=\"dni-plaintext\">4250</div></td><td>MALE</td></tr><tr><td>Adelie</td><td>Biscoe</td><td><div class=\"dni-plaintext\">38.6</div></td><td><div class=\"dni-plaintext\">17.2</div></td><td><div class=\"dni-plaintext\">199</div></td><td><div class=\"dni-plaintext\">3750</div></td><td>FEMALE</td></tr><tr><td>Adelie</td><td>Biscoe</td><td><div class=\"dni-plaintext\">38.2</div></td><td><div class=\"dni-plaintext\">20</div></td><td><div class=\"dni-plaintext\">190</div></td><td><div class=\"dni-plaintext\">3900</div></td><td>MALE</td></tr><tr><td>Adelie</td><td>Biscoe</td><td><div class=\"dni-plaintext\">38.1</div></td><td><div class=\"dni-plaintext\">17</div></td><td><div class=\"dni-plaintext\">181</div></td><td><div class=\"dni-plaintext\">3175</div></td><td>FEMALE</td></tr><tr><td>Adelie</td><td>Biscoe</td><td><div class=\"dni-plaintext\">43.2</div></td><td><div class=\"dni-plaintext\">19</div></td><td><div class=\"dni-plaintext\">197</div></td><td><div class=\"dni-plaintext\">4775</div></td><td>MALE</td></tr><tr><td>Adelie</td><td>Biscoe</td><td><div class=\"dni-plaintext\">38.1</div></td><td><div class=\"dni-plaintext\">16.5</div></td><td><div class=\"dni-plaintext\">198</div></td><td><div class=\"dni-plaintext\">3825</div></td><td>FEMALE</td></tr><tr><td>Adelie</td><td>Biscoe</td><td><div class=\"dni-plaintext\">39.7</div></td><td><div class=\"dni-plaintext\">17.7</div></td><td><div class=\"dni-plaintext\">193</div></td><td><div class=\"dni-plaintext\">3200</div></td><td>FEMALE</td></tr><tr><td>Adelie</td><td>Biscoe</td><td><div class=\"dni-plaintext\">39.6</div></td><td><div class=\"dni-plaintext\">20.7</div></td><td><div class=\"dni-plaintext\">191</div></td><td><div class=\"dni-plaintext\">3900</div></td><td>FEMALE</td></tr><tr><td>Adelie</td><td>Biscoe</td><td><div class=\"dni-plaintext\">42.7</div></td><td><div class=\"dni-plaintext\">18.3</div></td><td><div class=\"dni-plaintext\">196</div></td><td><div class=\"dni-plaintext\">4075</div></td><td>MALE</td></tr><tr><td>Adelie</td><td>Torgersen</td><td><div class=\"dni-plaintext\">38.6</div></td><td><div class=\"dni-plaintext\">17</div></td><td><div class=\"dni-plaintext\">188</div></td><td><div class=\"dni-plaintext\">2900</div></td><td>FEMALE</td></tr><tr><td>Adelie</td><td>Torgersen</td><td><div class=\"dni-plaintext\">37.3</div></td><td><div class=\"dni-plaintext\">20.5</div></td><td><div class=\"dni-plaintext\">199</div></td><td><div class=\"dni-plaintext\">3775</div></td><td>MALE</td></tr><tr><td>Adelie</td><td>Torgersen</td><td><div class=\"dni-plaintext\">35.7</div></td><td><div class=\"dni-plaintext\">17</div></td><td><div class=\"dni-plaintext\">189</div></td><td><div class=\"dni-plaintext\">3350</div></td><td>FEMALE</td></tr><tr><td>Adelie</td><td>Torgersen</td><td><div class=\"dni-plaintext\">41.1</div></td><td><div class=\"dni-plaintext\">18.6</div></td><td><div class=\"dni-plaintext\">189</div></td><td><div class=\"dni-plaintext\">3325</div></td><td>MALE</td></tr><tr><td>Adelie</td><td>Torgersen</td><td><div class=\"dni-plaintext\">41.4</div></td><td><div class=\"dni-plaintext\">18.5</div></td><td><div class=\"dni-plaintext\">202</div></td><td><div class=\"dni-plaintext\">3875</div></td><td>MALE</td></tr><tr><td>Adelie</td><td>Torgersen</td><td><div class=\"dni-plaintext\">35.2</div></td><td><div class=\"dni-plaintext\">15.9</div></td><td><div class=\"dni-plaintext\">186</div></td><td><div class=\"dni-plaintext\">3050</div></td><td>FEMALE</td></tr><tr><td>Adelie</td><td>Torgersen</td><td><div class=\"dni-plaintext\">40.6</div></td><td><div class=\"dni-plaintext\">19</div></td><td><div class=\"dni-plaintext\">199</div></td><td><div class=\"dni-plaintext\">4000</div></td><td>MALE</td></tr><tr><td>Adelie</td><td>Torgersen</td><td><div class=\"dni-plaintext\">38.8</div></td><td><div class=\"dni-plaintext\">17.6</div></td><td><div class=\"dni-plaintext\">191</div></td><td><div class=\"dni-plaintext\">3275</div></td><td>FEMALE</td></tr><tr><td>Adelie</td><td>Torgersen</td><td><div class=\"dni-plaintext\">41.5</div></td><td><div class=\"dni-plaintext\">18.3</div></td><td><div class=\"dni-plaintext\">195</div></td><td><div class=\"dni-plaintext\">4300</div></td><td>MALE</td></tr><tr><td>Adelie</td><td>Torgersen</td><td><div class=\"dni-plaintext\">39</div></td><td><div class=\"dni-plaintext\">17.1</div></td><td><div class=\"dni-plaintext\">191</div></td><td><div class=\"dni-plaintext\">3050</div></td><td>FEMALE</td></tr><tr><td>Adelie</td><td>Torgersen</td><td><div class=\"dni-plaintext\">38.5</div></td><td><div class=\"dni-plaintext\">17.9</div></td><td><div class=\"dni-plaintext\">190</div></td><td><div class=\"dni-plaintext\">3325</div></td><td>FEMALE</td></tr><tr><td>Adelie</td><td>Torgersen</td><td><div class=\"dni-plaintext\">43.1</div></td><td><div class=\"dni-plaintext\">19.2</div></td><td><div class=\"dni-plaintext\">197</div></td><td><div class=\"dni-plaintext\">3500</div></td><td>MALE</td></tr><tr><td>Adelie</td><td>Dream</td><td><div class=\"dni-plaintext\">38.1</div></td><td><div class=\"dni-plaintext\">17.6</div></td><td><div class=\"dni-plaintext\">187</div></td><td><div class=\"dni-plaintext\">3425</div></td><td>FEMALE</td></tr><tr><td>Adelie</td><td>Dream</td><td><div class=\"dni-plaintext\">41.1</div></td><td><div class=\"dni-plaintext\">17.5</div></td><td><div class=\"dni-plaintext\">190</div></td><td><div class=\"dni-plaintext\">3900</div></td><td>MALE</td></tr><tr><td>Adelie</td><td>Dream</td><td><div class=\"dni-plaintext\">35.6</div></td><td><div class=\"dni-plaintext\">17.5</div></td><td><div class=\"dni-plaintext\">191</div></td><td><div class=\"dni-plaintext\">3175</div></td><td>FEMALE</td></tr><tr><td>Adelie</td><td>Dream</td><td><div class=\"dni-plaintext\">37</div></td><td><div class=\"dni-plaintext\">16.5</div></td><td><div class=\"dni-plaintext\">185</div></td><td><div class=\"dni-plaintext\">3400</div></td><td>FEMALE</td></tr><tr><td>Adelie</td><td>Dream</td><td><div class=\"dni-plaintext\">39.7</div></td><td><div class=\"dni-plaintext\">17.9</div></td><td><div class=\"dni-plaintext\">193</div></td><td><div class=\"dni-plaintext\">4250</div></td><td>MALE</td></tr><tr><td>Adelie</td><td>Dream</td><td><div class=\"dni-plaintext\">40.2</div></td><td><div class=\"dni-plaintext\">17.1</div></td><td><div class=\"dni-plaintext\">193</div></td><td><div class=\"dni-plaintext\">3400</div></td><td>FEMALE</td></tr><tr><td>Adelie</td><td>Dream</td><td><div class=\"dni-plaintext\">40.6</div></td><td><div class=\"dni-plaintext\">17.2</div></td><td><div class=\"dni-plaintext\">187</div></td><td><div class=\"dni-plaintext\">3475</div></td><td>MALE</td></tr><tr><td>Adelie</td><td>Dream</td><td><div class=\"dni-plaintext\">32.1</div></td><td><div class=\"dni-plaintext\">15.5</div></td><td><div class=\"dni-plaintext\">188</div></td><td><div class=\"dni-plaintext\">3050</div></td><td>FEMALE</td></tr><tr><td>Adelie</td><td>Dream</td><td><div class=\"dni-plaintext\">40.7</div></td><td><div class=\"dni-plaintext\">17</div></td><td><div class=\"dni-plaintext\">190</div></td><td><div class=\"dni-plaintext\">3725</div></td><td>MALE</td></tr><tr><td>Adelie</td><td>Dream</td><td><div class=\"dni-plaintext\">37.3</div></td><td><div class=\"dni-plaintext\">16.8</div></td><td><div class=\"dni-plaintext\">192</div></td><td><div class=\"dni-plaintext\">3000</div></td><td>FEMALE</td></tr><tr><td>Adelie</td><td>Dream</td><td><div class=\"dni-plaintext\">39.2</div></td><td><div class=\"dni-plaintext\">18.6</div></td><td><div class=\"dni-plaintext\">190</div></td><td><div class=\"dni-plaintext\">4250</div></td><td>MALE</td></tr><tr><td>Adelie</td><td>Dream</td><td><div class=\"dni-plaintext\">36</div></td><td><div class=\"dni-plaintext\">17.8</div></td><td><div class=\"dni-plaintext\">195</div></td><td><div class=\"dni-plaintext\">3450</div></td><td>FEMALE</td></tr><tr><td>Adelie</td><td>Dream</td><td><div class=\"dni-plaintext\">37.8</div></td><td><div class=\"dni-plaintext\">18.1</div></td><td><div class=\"dni-plaintext\">193</div></td><td><div class=\"dni-plaintext\">3750</div></td><td>MALE</td></tr><tr><td>Adelie</td><td>Dream</td><td><div class=\"dni-plaintext\">36</div></td><td><div class=\"dni-plaintext\">17.1</div></td><td><div class=\"dni-plaintext\">187</div></td><td><div class=\"dni-plaintext\">3700</div></td><td>FEMALE</td></tr><tr><td>Chinstrap</td><td>Dream</td><td><div class=\"dni-plaintext\">50</div></td><td><div class=\"dni-plaintext\">19.5</div></td><td><div class=\"dni-plaintext\">196</div></td><td><div class=\"dni-plaintext\">3900</div></td><td>MALE</td></tr><tr><td>Chinstrap</td><td>Dream</td><td><div class=\"dni-plaintext\">51.3</div></td><td><div class=\"dni-plaintext\">19.2</div></td><td><div class=\"dni-plaintext\">193</div></td><td><div class=\"dni-plaintext\">3650</div></td><td>MALE</td></tr><tr><td>Chinstrap</td><td>Dream</td><td><div class=\"dni-plaintext\">45.4</div></td><td><div class=\"dni-plaintext\">18.7</div></td><td><div class=\"dni-plaintext\">188</div></td><td><div class=\"dni-plaintext\">3525</div></td><td>FEMALE</td></tr><tr><td>Chinstrap</td><td>Dream</td><td><div class=\"dni-plaintext\">45.2</div></td><td><div class=\"dni-plaintext\">17.8</div></td><td><div class=\"dni-plaintext\">198</div></td><td><div class=\"dni-plaintext\">3950</div></td><td>FEMALE</td></tr><tr><td>Chinstrap</td><td>Dream</td><td><div class=\"dni-plaintext\">46.1</div></td><td><div class=\"dni-plaintext\">18.2</div></td><td><div class=\"dni-plaintext\">178</div></td><td><div class=\"dni-plaintext\">3250</div></td><td>FEMALE</td></tr><tr><td>Chinstrap</td><td>Dream</td><td><div class=\"dni-plaintext\">51.3</div></td><td><div class=\"dni-plaintext\">18.2</div></td><td><div class=\"dni-plaintext\">197</div></td><td><div class=\"dni-plaintext\">3750</div></td><td>MALE</td></tr><tr><td>Chinstrap</td><td>Dream</td><td><div class=\"dni-plaintext\">46</div></td><td><div class=\"dni-plaintext\">18.9</div></td><td><div class=\"dni-plaintext\">195</div></td><td><div class=\"dni-plaintext\">4150</div></td><td>FEMALE</td></tr><tr><td>Chinstrap</td><td>Dream</td><td><div class=\"dni-plaintext\">46.6</div></td><td><div class=\"dni-plaintext\">17.8</div></td><td><div class=\"dni-plaintext\">193</div></td><td><div class=\"dni-plaintext\">3800</div></td><td>FEMALE</td></tr><tr><td>Chinstrap</td><td>Dream</td><td><div class=\"dni-plaintext\">51.7</div></td><td><div class=\"dni-plaintext\">20.3</div></td><td><div class=\"dni-plaintext\">194</div></td><td><div class=\"dni-plaintext\">3775</div></td><td>MALE</td></tr><tr><td>Chinstrap</td><td>Dream</td><td><div class=\"dni-plaintext\">52</div></td><td><div class=\"dni-plaintext\">18.1</div></td><td><div class=\"dni-plaintext\">201</div></td><td><div class=\"dni-plaintext\">4050</div></td><td>MALE</td></tr><tr><td>Chinstrap</td><td>Dream</td><td><div class=\"dni-plaintext\">45.9</div></td><td><div class=\"dni-plaintext\">17.1</div></td><td><div class=\"dni-plaintext\">190</div></td><td><div class=\"dni-plaintext\">3575</div></td><td>FEMALE</td></tr><tr><td>Chinstrap</td><td>Dream</td><td><div class=\"dni-plaintext\">50.5</div></td><td><div class=\"dni-plaintext\">19.6</div></td><td><div class=\"dni-plaintext\">201</div></td><td><div class=\"dni-plaintext\">4050</div></td><td>MALE</td></tr><tr><td>Chinstrap</td><td>Dream</td><td><div class=\"dni-plaintext\">50.3</div></td><td><div class=\"dni-plaintext\">20</div></td><td><div class=\"dni-plaintext\">197</div></td><td><div class=\"dni-plaintext\">3300</div></td><td>MALE</td></tr><tr><td>Chinstrap</td><td>Dream</td><td><div class=\"dni-plaintext\">46.4</div></td><td><div class=\"dni-plaintext\">18.6</div></td><td><div class=\"dni-plaintext\">190</div></td><td><div class=\"dni-plaintext\">3450</div></td><td>FEMALE</td></tr><tr><td>Chinstrap</td><td>Dream</td><td><div class=\"dni-plaintext\">49.2</div></td><td><div class=\"dni-plaintext\">18.2</div></td><td><div class=\"dni-plaintext\">195</div></td><td><div class=\"dni-plaintext\">4400</div></td><td>MALE</td></tr><tr><td>Chinstrap</td><td>Dream</td><td><div class=\"dni-plaintext\">42.4</div></td><td><div class=\"dni-plaintext\">17.3</div></td><td><div class=\"dni-plaintext\">181</div></td><td><div class=\"dni-plaintext\">3600</div></td><td>FEMALE</td></tr><tr><td>Chinstrap</td><td>Dream</td><td><div class=\"dni-plaintext\">50.6</div></td><td><div class=\"dni-plaintext\">19.4</div></td><td><div class=\"dni-plaintext\">193</div></td><td><div class=\"dni-plaintext\">3800</div></td><td>MALE</td></tr><tr><td>Chinstrap</td><td>Dream</td><td><div class=\"dni-plaintext\">46.7</div></td><td><div class=\"dni-plaintext\">17.9</div></td><td><div class=\"dni-plaintext\">195</div></td><td><div class=\"dni-plaintext\">3300</div></td><td>FEMALE</td></tr><tr><td>Chinstrap</td><td>Dream</td><td><div class=\"dni-plaintext\">50.5</div></td><td><div class=\"dni-plaintext\">18.4</div></td><td><div class=\"dni-plaintext\">200</div></td><td><div class=\"dni-plaintext\">3400</div></td><td>FEMALE</td></tr><tr><td>Chinstrap</td><td>Dream</td><td><div class=\"dni-plaintext\">49.5</div></td><td><div class=\"dni-plaintext\">19</div></td><td><div class=\"dni-plaintext\">200</div></td><td><div class=\"dni-plaintext\">3800</div></td><td>MALE</td></tr><tr><td>Chinstrap</td><td>Dream</td><td><div class=\"dni-plaintext\">40.9</div></td><td><div class=\"dni-plaintext\">16.6</div></td><td><div class=\"dni-plaintext\">187</div></td><td><div class=\"dni-plaintext\">3200</div></td><td>FEMALE</td></tr><tr><td>Chinstrap</td><td>Dream</td><td><div class=\"dni-plaintext\">54.2</div></td><td><div class=\"dni-plaintext\">20.8</div></td><td><div class=\"dni-plaintext\">201</div></td><td><div class=\"dni-plaintext\">4300</div></td><td>MALE</td></tr><tr><td>Chinstrap</td><td>Dream</td><td><div class=\"dni-plaintext\">42.5</div></td><td><div class=\"dni-plaintext\">16.7</div></td><td><div class=\"dni-plaintext\">187</div></td><td><div class=\"dni-plaintext\">3350</div></td><td>FEMALE</td></tr><tr><td>Chinstrap</td><td>Dream</td><td><div class=\"dni-plaintext\">51</div></td><td><div class=\"dni-plaintext\">18.8</div></td><td><div class=\"dni-plaintext\">203</div></td><td><div class=\"dni-plaintext\">4100</div></td><td>MALE</td></tr><tr><td>Chinstrap</td><td>Dream</td><td><div class=\"dni-plaintext\">49.7</div></td><td><div class=\"dni-plaintext\">18.6</div></td><td><div class=\"dni-plaintext\">195</div></td><td><div class=\"dni-plaintext\">3600</div></td><td>MALE</td></tr><tr><td>Chinstrap</td><td>Dream</td><td><div class=\"dni-plaintext\">46.9</div></td><td><div class=\"dni-plaintext\">16.6</div></td><td><div class=\"dni-plaintext\">192</div></td><td><div class=\"dni-plaintext\">2700</div></td><td>FEMALE</td></tr><tr><td>Chinstrap</td><td>Dream</td><td><div class=\"dni-plaintext\">49</div></td><td><div class=\"dni-plaintext\">19.5</div></td><td><div class=\"dni-plaintext\">210</div></td><td><div class=\"dni-plaintext\">3950</div></td><td>MALE</td></tr><tr><td>Chinstrap</td><td>Dream</td><td><div class=\"dni-plaintext\">46.2</div></td><td><div class=\"dni-plaintext\">17.5</div></td><td><div class=\"dni-plaintext\">187</div></td><td><div class=\"dni-plaintext\">3650</div></td><td>FEMALE</td></tr><tr><td>Chinstrap</td><td>Dream</td><td><div class=\"dni-plaintext\">50.9</div></td><td><div class=\"dni-plaintext\">19.1</div></td><td><div class=\"dni-plaintext\">196</div></td><td><div class=\"dni-plaintext\">3550</div></td><td>MALE</td></tr><tr><td>Chinstrap</td><td>Dream</td><td><div class=\"dni-plaintext\">45.5</div></td><td><div class=\"dni-plaintext\">17</div></td><td><div class=\"dni-plaintext\">196</div></td><td><div class=\"dni-plaintext\">3500</div></td><td>FEMALE</td></tr><tr><td>Chinstrap</td><td>Dream</td><td><div class=\"dni-plaintext\">50.9</div></td><td><div class=\"dni-plaintext\">17.9</div></td><td><div class=\"dni-plaintext\">196</div></td><td><div class=\"dni-plaintext\">3675</div></td><td>FEMALE</td></tr><tr><td>Chinstrap</td><td>Dream</td><td><div class=\"dni-plaintext\">50.8</div></td><td><div class=\"dni-plaintext\">18.5</div></td><td><div class=\"dni-plaintext\">201</div></td><td><div class=\"dni-plaintext\">4450</div></td><td>MALE</td></tr><tr><td>Chinstrap</td><td>Dream</td><td><div class=\"dni-plaintext\">50.1</div></td><td><div class=\"dni-plaintext\">17.9</div></td><td><div class=\"dni-plaintext\">190</div></td><td><div class=\"dni-plaintext\">3400</div></td><td>FEMALE</td></tr><tr><td>Chinstrap</td><td>Dream</td><td><div class=\"dni-plaintext\">51.5</div></td><td><div class=\"dni-plaintext\">18.7</div></td><td><div class=\"dni-plaintext\">187</div></td><td><div class=\"dni-plaintext\">3250</div></td><td>MALE</td></tr><tr><td>Chinstrap</td><td>Dream</td><td><div class=\"dni-plaintext\">49.8</div></td><td><div class=\"dni-plaintext\">17.3</div></td><td><div class=\"dni-plaintext\">198</div></td><td><div class=\"dni-plaintext\">3675</div></td><td>FEMALE</td></tr><tr><td>Chinstrap</td><td>Dream</td><td><div class=\"dni-plaintext\">51.4</div></td><td><div class=\"dni-plaintext\">19</div></td><td><div class=\"dni-plaintext\">201</div></td><td><div class=\"dni-plaintext\">3950</div></td><td>MALE</td></tr><tr><td>Chinstrap</td><td>Dream</td><td><div class=\"dni-plaintext\">45.7</div></td><td><div class=\"dni-plaintext\">17.3</div></td><td><div class=\"dni-plaintext\">193</div></td><td><div class=\"dni-plaintext\">3600</div></td><td>FEMALE</td></tr><tr><td>Chinstrap</td><td>Dream</td><td><div class=\"dni-plaintext\">52.2</div></td><td><div class=\"dni-plaintext\">18.8</div></td><td><div class=\"dni-plaintext\">197</div></td><td><div class=\"dni-plaintext\">3450</div></td><td>MALE</td></tr><tr><td>Chinstrap</td><td>Dream</td><td><div class=\"dni-plaintext\">45.2</div></td><td><div class=\"dni-plaintext\">16.6</div></td><td><div class=\"dni-plaintext\">191</div></td><td><div class=\"dni-plaintext\">3250</div></td><td>FEMALE</td></tr><tr><td>Chinstrap</td><td>Dream</td><td><div class=\"dni-plaintext\">49.3</div></td><td><div class=\"dni-plaintext\">19.9</div></td><td><div class=\"dni-plaintext\">203</div></td><td><div class=\"dni-plaintext\">4050</div></td><td>MALE</td></tr><tr><td>Chinstrap</td><td>Dream</td><td><div class=\"dni-plaintext\">50.2</div></td><td><div class=\"dni-plaintext\">18.8</div></td><td><div class=\"dni-plaintext\">202</div></td><td><div class=\"dni-plaintext\">3800</div></td><td>MALE</td></tr><tr><td>Chinstrap</td><td>Dream</td><td><div class=\"dni-plaintext\">46.8</div></td><td><div class=\"dni-plaintext\">16.5</div></td><td><div class=\"dni-plaintext\">189</div></td><td><div class=\"dni-plaintext\">3650</div></td><td>FEMALE</td></tr><tr><td>Chinstrap</td><td>Dream</td><td><div class=\"dni-plaintext\">45.7</div></td><td><div class=\"dni-plaintext\">17</div></td><td><div class=\"dni-plaintext\">195</div></td><td><div class=\"dni-plaintext\">3650</div></td><td>FEMALE</td></tr><tr><td>Chinstrap</td><td>Dream</td><td><div class=\"dni-plaintext\">55.8</div></td><td><div class=\"dni-plaintext\">19.8</div></td><td><div class=\"dni-plaintext\">207</div></td><td><div class=\"dni-plaintext\">4000</div></td><td>MALE</td></tr><tr><td>Chinstrap</td><td>Dream</td><td><div class=\"dni-plaintext\">49.6</div></td><td><div class=\"dni-plaintext\">18.2</div></td><td><div class=\"dni-plaintext\">193</div></td><td><div class=\"dni-plaintext\">3775</div></td><td>MALE</td></tr><tr><td>Chinstrap</td><td>Dream</td><td><div class=\"dni-plaintext\">50.2</div></td><td><div class=\"dni-plaintext\">18.7</div></td><td><div class=\"dni-plaintext\">198</div></td><td><div class=\"dni-plaintext\">3775</div></td><td>FEMALE</td></tr><tr><td>Gentoo</td><td>Biscoe</td><td><div class=\"dni-plaintext\">46.1</div></td><td><div class=\"dni-plaintext\">13.2</div></td><td><div class=\"dni-plaintext\">211</div></td><td><div class=\"dni-plaintext\">4500</div></td><td>FEMALE</td></tr><tr><td>Gentoo</td><td>Biscoe</td><td><div class=\"dni-plaintext\">50</div></td><td><div class=\"dni-plaintext\">16.3</div></td><td><div class=\"dni-plaintext\">230</div></td><td><div class=\"dni-plaintext\">5700</div></td><td>MALE</td></tr><tr><td>Gentoo</td><td>Biscoe</td><td><div class=\"dni-plaintext\">48.7</div></td><td><div class=\"dni-plaintext\">14.1</div></td><td><div class=\"dni-plaintext\">210</div></td><td><div class=\"dni-plaintext\">4450</div></td><td>FEMALE</td></tr><tr><td>Gentoo</td><td>Biscoe</td><td><div class=\"dni-plaintext\">50</div></td><td><div class=\"dni-plaintext\">15.2</div></td><td><div class=\"dni-plaintext\">218</div></td><td><div class=\"dni-plaintext\">5700</div></td><td>MALE</td></tr><tr><td>Gentoo</td><td>Biscoe</td><td><div class=\"dni-plaintext\">47.6</div></td><td><div class=\"dni-plaintext\">14.5</div></td><td><div class=\"dni-plaintext\">215</div></td><td><div class=\"dni-plaintext\">5400</div></td><td>MALE</td></tr><tr><td>Gentoo</td><td>Biscoe</td><td><div class=\"dni-plaintext\">46.5</div></td><td><div class=\"dni-plaintext\">13.5</div></td><td><div class=\"dni-plaintext\">210</div></td><td><div class=\"dni-plaintext\">4550</div></td><td>FEMALE</td></tr><tr><td>Gentoo</td><td>Biscoe</td><td><div class=\"dni-plaintext\">46.7</div></td><td><div class=\"dni-plaintext\">15.3</div></td><td><div class=\"dni-plaintext\">219</div></td><td><div class=\"dni-plaintext\">5200</div></td><td>MALE</td></tr><tr><td>Gentoo</td><td>Biscoe</td><td><div class=\"dni-plaintext\">43.3</div></td><td><div class=\"dni-plaintext\">13.4</div></td><td><div class=\"dni-plaintext\">209</div></td><td><div class=\"dni-plaintext\">4400</div></td><td>FEMALE</td></tr><tr><td>Gentoo</td><td>Biscoe</td><td><div class=\"dni-plaintext\">46.8</div></td><td><div class=\"dni-plaintext\">15.4</div></td><td><div class=\"dni-plaintext\">215</div></td><td><div class=\"dni-plaintext\">5150</div></td><td>MALE</td></tr><tr><td>Gentoo</td><td>Biscoe</td><td><div class=\"dni-plaintext\">40.9</div></td><td><div class=\"dni-plaintext\">13.7</div></td><td><div class=\"dni-plaintext\">214</div></td><td><div class=\"dni-plaintext\">4650</div></td><td>FEMALE</td></tr><tr><td>Gentoo</td><td>Biscoe</td><td><div class=\"dni-plaintext\">49</div></td><td><div class=\"dni-plaintext\">16.1</div></td><td><div class=\"dni-plaintext\">216</div></td><td><div class=\"dni-plaintext\">5550</div></td><td>MALE</td></tr><tr><td>Gentoo</td><td>Biscoe</td><td><div class=\"dni-plaintext\">45.5</div></td><td><div class=\"dni-plaintext\">13.7</div></td><td><div class=\"dni-plaintext\">214</div></td><td><div class=\"dni-plaintext\">4650</div></td><td>FEMALE</td></tr><tr><td>Gentoo</td><td>Biscoe</td><td><div class=\"dni-plaintext\">48.4</div></td><td><div class=\"dni-plaintext\">14.6</div></td><td><div class=\"dni-plaintext\">213</div></td><td><div class=\"dni-plaintext\">5850</div></td><td>MALE</td></tr><tr><td>Gentoo</td><td>Biscoe</td><td><div class=\"dni-plaintext\">45.8</div></td><td><div class=\"dni-plaintext\">14.6</div></td><td><div class=\"dni-plaintext\">210</div></td><td><div class=\"dni-plaintext\">4200</div></td><td>FEMALE</td></tr><tr><td>Gentoo</td><td>Biscoe</td><td><div class=\"dni-plaintext\">49.3</div></td><td><div class=\"dni-plaintext\">15.7</div></td><td><div class=\"dni-plaintext\">217</div></td><td><div class=\"dni-plaintext\">5850</div></td><td>MALE</td></tr><tr><td>Gentoo</td><td>Biscoe</td><td><div class=\"dni-plaintext\">42</div></td><td><div class=\"dni-plaintext\">13.5</div></td><td><div class=\"dni-plaintext\">210</div></td><td><div class=\"dni-plaintext\">4150</div></td><td>FEMALE</td></tr><tr><td>Gentoo</td><td>Biscoe</td><td><div class=\"dni-plaintext\">46.2</div></td><td><div class=\"dni-plaintext\">14.5</div></td><td><div class=\"dni-plaintext\">209</div></td><td><div class=\"dni-plaintext\">4800</div></td><td>FEMALE</td></tr><tr><td>Gentoo</td><td>Biscoe</td><td><div class=\"dni-plaintext\">48.7</div></td><td><div class=\"dni-plaintext\">15.1</div></td><td><div class=\"dni-plaintext\">222</div></td><td><div class=\"dni-plaintext\">5350</div></td><td>MALE</td></tr><tr><td>Gentoo</td><td>Biscoe</td><td><div class=\"dni-plaintext\">50.2</div></td><td><div class=\"dni-plaintext\">14.3</div></td><td><div class=\"dni-plaintext\">218</div></td><td><div class=\"dni-plaintext\">5700</div></td><td>MALE</td></tr><tr><td>Gentoo</td><td>Biscoe</td><td><div class=\"dni-plaintext\">45.1</div></td><td><div class=\"dni-plaintext\">14.5</div></td><td><div class=\"dni-plaintext\">215</div></td><td><div class=\"dni-plaintext\">5000</div></td><td>FEMALE</td></tr><tr><td>Gentoo</td><td>Biscoe</td><td><div class=\"dni-plaintext\">46.3</div></td><td><div class=\"dni-plaintext\">15.8</div></td><td><div class=\"dni-plaintext\">215</div></td><td><div class=\"dni-plaintext\">5050</div></td><td>MALE</td></tr><tr><td>Gentoo</td><td>Biscoe</td><td><div class=\"dni-plaintext\">42.9</div></td><td><div class=\"dni-plaintext\">13.1</div></td><td><div class=\"dni-plaintext\">215</div></td><td><div class=\"dni-plaintext\">5000</div></td><td>FEMALE</td></tr><tr><td>Gentoo</td><td>Biscoe</td><td><div class=\"dni-plaintext\">46.1</div></td><td><div class=\"dni-plaintext\">15.1</div></td><td><div class=\"dni-plaintext\">215</div></td><td><div class=\"dni-plaintext\">5100</div></td><td>MALE</td></tr><tr><td>Gentoo</td><td>Biscoe</td><td><div class=\"dni-plaintext\">48.2</div></td><td><div class=\"dni-plaintext\">14.3</div></td><td><div class=\"dni-plaintext\">210</div></td><td><div class=\"dni-plaintext\">4600</div></td><td>FEMALE</td></tr><tr><td>Gentoo</td><td>Biscoe</td><td><div class=\"dni-plaintext\">47.3</div></td><td><div class=\"dni-plaintext\">15.3</div></td><td><div class=\"dni-plaintext\">222</div></td><td><div class=\"dni-plaintext\">5250</div></td><td>MALE</td></tr><tr><td>Gentoo</td><td>Biscoe</td><td><div class=\"dni-plaintext\">42.8</div></td><td><div class=\"dni-plaintext\">14.2</div></td><td><div class=\"dni-plaintext\">209</div></td><td><div class=\"dni-plaintext\">4700</div></td><td>FEMALE</td></tr><tr><td>Gentoo</td><td>Biscoe</td><td><div class=\"dni-plaintext\">59.6</div></td><td><div class=\"dni-plaintext\">17</div></td><td><div class=\"dni-plaintext\">230</div></td><td><div class=\"dni-plaintext\">6050</div></td><td>MALE</td></tr><tr><td>Gentoo</td><td>Biscoe</td><td><div class=\"dni-plaintext\">48.4</div></td><td><div class=\"dni-plaintext\">16.3</div></td><td><div class=\"dni-plaintext\">220</div></td><td><div class=\"dni-plaintext\">5400</div></td><td>MALE</td></tr><tr><td>Gentoo</td><td>Biscoe</td><td><div class=\"dni-plaintext\">42.6</div></td><td><div class=\"dni-plaintext\">13.7</div></td><td><div class=\"dni-plaintext\">213</div></td><td><div class=\"dni-plaintext\">4950</div></td><td>FEMALE</td></tr><tr><td>Gentoo</td><td>Biscoe</td><td><div class=\"dni-plaintext\">44.4</div></td><td><div class=\"dni-plaintext\">17.3</div></td><td><div class=\"dni-plaintext\">219</div></td><td><div class=\"dni-plaintext\">5250</div></td><td>MALE</td></tr><tr><td>Gentoo</td><td>Biscoe</td><td><div class=\"dni-plaintext\">44</div></td><td><div class=\"dni-plaintext\">13.6</div></td><td><div class=\"dni-plaintext\">208</div></td><td><div class=\"dni-plaintext\">4350</div></td><td>FEMALE</td></tr><tr><td>Gentoo</td><td>Biscoe</td><td><div class=\"dni-plaintext\">42.7</div></td><td><div class=\"dni-plaintext\">13.7</div></td><td><div class=\"dni-plaintext\">208</div></td><td><div class=\"dni-plaintext\">3950</div></td><td>FEMALE</td></tr><tr><td>Gentoo</td><td>Biscoe</td><td><div class=\"dni-plaintext\">49.6</div></td><td><div class=\"dni-plaintext\">16</div></td><td><div class=\"dni-plaintext\">225</div></td><td><div class=\"dni-plaintext\">5700</div></td><td>MALE</td></tr><tr><td>Gentoo</td><td>Biscoe</td><td><div class=\"dni-plaintext\">49.6</div></td><td><div class=\"dni-plaintext\">15</div></td><td><div class=\"dni-plaintext\">216</div></td><td><div class=\"dni-plaintext\">4750</div></td><td>MALE</td></tr><tr><td>Gentoo</td><td>Biscoe</td><td><div class=\"dni-plaintext\">50.5</div></td><td><div class=\"dni-plaintext\">15.9</div></td><td><div class=\"dni-plaintext\">222</div></td><td><div class=\"dni-plaintext\">5550</div></td><td>MALE</td></tr><tr><td>Gentoo</td><td>Biscoe</td><td><div class=\"dni-plaintext\">43.6</div></td><td><div class=\"dni-plaintext\">13.9</div></td><td><div class=\"dni-plaintext\">217</div></td><td><div class=\"dni-plaintext\">4900</div></td><td>FEMALE</td></tr><tr><td>Gentoo</td><td>Biscoe</td><td><div class=\"dni-plaintext\">45.5</div></td><td><div class=\"dni-plaintext\">13.9</div></td><td><div class=\"dni-plaintext\">210</div></td><td><div class=\"dni-plaintext\">4200</div></td><td>FEMALE</td></tr><tr><td>Gentoo</td><td>Biscoe</td><td><div class=\"dni-plaintext\">50.5</div></td><td><div class=\"dni-plaintext\">15.9</div></td><td><div class=\"dni-plaintext\">225</div></td><td><div class=\"dni-plaintext\">5400</div></td><td>MALE</td></tr><tr><td>Gentoo</td><td>Biscoe</td><td><div class=\"dni-plaintext\">45.2</div></td><td><div class=\"dni-plaintext\">15.8</div></td><td><div class=\"dni-plaintext\">215</div></td><td><div class=\"dni-plaintext\">5300</div></td><td>MALE</td></tr><tr><td>Gentoo</td><td>Biscoe</td><td><div class=\"dni-plaintext\">46.6</div></td><td><div class=\"dni-plaintext\">14.2</div></td><td><div class=\"dni-plaintext\">210</div></td><td><div class=\"dni-plaintext\">4850</div></td><td>FEMALE</td></tr><tr><td>Gentoo</td><td>Biscoe</td><td><div class=\"dni-plaintext\">50.1</div></td><td><div class=\"dni-plaintext\">15</div></td><td><div class=\"dni-plaintext\">225</div></td><td><div class=\"dni-plaintext\">5000</div></td><td>MALE</td></tr><tr><td>Gentoo</td><td>Biscoe</td><td><div class=\"dni-plaintext\">46.5</div></td><td><div class=\"dni-plaintext\">14.4</div></td><td><div class=\"dni-plaintext\">217</div></td><td><div class=\"dni-plaintext\">4900</div></td><td>FEMALE</td></tr><tr><td>Gentoo</td><td>Biscoe</td><td><div class=\"dni-plaintext\">45.5</div></td><td><div class=\"dni-plaintext\">15</div></td><td><div class=\"dni-plaintext\">220</div></td><td><div class=\"dni-plaintext\">5000</div></td><td>MALE</td></tr><tr><td>Gentoo</td><td>Biscoe</td><td><div class=\"dni-plaintext\">43.2</div></td><td><div class=\"dni-plaintext\">14.5</div></td><td><div class=\"dni-plaintext\">208</div></td><td><div class=\"dni-plaintext\">4450</div></td><td>FEMALE</td></tr><tr><td>Gentoo</td><td>Biscoe</td><td><div class=\"dni-plaintext\">46.2</div></td><td><div class=\"dni-plaintext\">14.9</div></td><td><div class=\"dni-plaintext\">221</div></td><td><div class=\"dni-plaintext\">5300</div></td><td>MALE</td></tr><tr><td>Gentoo</td><td>Biscoe</td><td><div class=\"dni-plaintext\">45.7</div></td><td><div class=\"dni-plaintext\">13.9</div></td><td><div class=\"dni-plaintext\">214</div></td><td><div class=\"dni-plaintext\">4400</div></td><td>FEMALE</td></tr><tr><td>Gentoo</td><td>Biscoe</td><td><div class=\"dni-plaintext\">45.8</div></td><td><div class=\"dni-plaintext\">14.2</div></td><td><div class=\"dni-plaintext\">219</div></td><td><div class=\"dni-plaintext\">4700</div></td><td>FEMALE</td></tr><tr><td>Gentoo</td><td>Biscoe</td><td><div class=\"dni-plaintext\">49.8</div></td><td><div class=\"dni-plaintext\">16.8</div></td><td><div class=\"dni-plaintext\">230</div></td><td><div class=\"dni-plaintext\">5700</div></td><td>MALE</td></tr><tr><td>Gentoo</td><td>Biscoe</td><td><div class=\"dni-plaintext\">46.2</div></td><td><div class=\"dni-plaintext\">14.4</div></td><td><div class=\"dni-plaintext\">214</div></td><td><div class=\"dni-plaintext\">4650</div></td><td>NA</td></tr><tr><td>Gentoo</td><td>Biscoe</td><td><div class=\"dni-plaintext\">49.5</div></td><td><div class=\"dni-plaintext\">16.2</div></td><td><div class=\"dni-plaintext\">229</div></td><td><div class=\"dni-plaintext\">5800</div></td><td>MALE</td></tr><tr><td>Gentoo</td><td>Biscoe</td><td><div class=\"dni-plaintext\">50.7</div></td><td><div class=\"dni-plaintext\">15</div></td><td><div class=\"dni-plaintext\">223</div></td><td><div class=\"dni-plaintext\">5550</div></td><td>MALE</td></tr><tr><td>Gentoo</td><td>Biscoe</td><td><div class=\"dni-plaintext\">46.4</div></td><td><div class=\"dni-plaintext\">15.6</div></td><td><div class=\"dni-plaintext\">221</div></td><td><div class=\"dni-plaintext\">5000</div></td><td>MALE</td></tr><tr><td>Gentoo</td><td>Biscoe</td><td><div class=\"dni-plaintext\">48.2</div></td><td><div class=\"dni-plaintext\">15.6</div></td><td><div class=\"dni-plaintext\">221</div></td><td><div class=\"dni-plaintext\">5100</div></td><td>MALE</td></tr><tr><td>Gentoo</td><td>Biscoe</td><td><div class=\"dni-plaintext\">46.5</div></td><td><div class=\"dni-plaintext\">14.8</div></td><td><div class=\"dni-plaintext\">217</div></td><td><div class=\"dni-plaintext\">5200</div></td><td>FEMALE</td></tr><tr><td>Gentoo</td><td>Biscoe</td><td><div class=\"dni-plaintext\">46.4</div></td><td><div class=\"dni-plaintext\">15</div></td><td><div class=\"dni-plaintext\">216</div></td><td><div class=\"dni-plaintext\">4700</div></td><td>FEMALE</td></tr><tr><td>Gentoo</td><td>Biscoe</td><td><div class=\"dni-plaintext\">48.6</div></td><td><div class=\"dni-plaintext\">16</div></td><td><div class=\"dni-plaintext\">230</div></td><td><div class=\"dni-plaintext\">5800</div></td><td>MALE</td></tr><tr><td>Gentoo</td><td>Biscoe</td><td><div class=\"dni-plaintext\">47.5</div></td><td><div class=\"dni-plaintext\">14.2</div></td><td><div class=\"dni-plaintext\">209</div></td><td><div class=\"dni-plaintext\">4600</div></td><td>FEMALE</td></tr><tr><td>Gentoo</td><td>Biscoe</td><td><div class=\"dni-plaintext\">51.1</div></td><td><div class=\"dni-plaintext\">16.3</div></td><td><div class=\"dni-plaintext\">220</div></td><td><div class=\"dni-plaintext\">6000</div></td><td>MALE</td></tr><tr><td>Gentoo</td><td>Biscoe</td><td><div class=\"dni-plaintext\">45.2</div></td><td><div class=\"dni-plaintext\">13.8</div></td><td><div class=\"dni-plaintext\">215</div></td><td><div class=\"dni-plaintext\">4750</div></td><td>FEMALE</td></tr><tr><td>Gentoo</td><td>Biscoe</td><td><div class=\"dni-plaintext\">49.1</div></td><td><div class=\"dni-plaintext\">14.5</div></td><td><div class=\"dni-plaintext\">212</div></td><td><div class=\"dni-plaintext\">4625</div></td><td>FEMALE</td></tr><tr><td>Gentoo</td><td>Biscoe</td><td><div class=\"dni-plaintext\">52.5</div></td><td><div class=\"dni-plaintext\">15.6</div></td><td><div class=\"dni-plaintext\">221</div></td><td><div class=\"dni-plaintext\">5450</div></td><td>MALE</td></tr><tr><td>Gentoo</td><td>Biscoe</td><td><div class=\"dni-plaintext\">47.4</div></td><td><div class=\"dni-plaintext\">14.6</div></td><td><div class=\"dni-plaintext\">212</div></td><td><div class=\"dni-plaintext\">4725</div></td><td>FEMALE</td></tr><tr><td>Gentoo</td><td>Biscoe</td><td><div class=\"dni-plaintext\">50.8</div></td><td><div class=\"dni-plaintext\">17.3</div></td><td><div class=\"dni-plaintext\">228</div></td><td><div class=\"dni-plaintext\">5600</div></td><td>MALE</td></tr><tr><td>Gentoo</td><td>Biscoe</td><td><div class=\"dni-plaintext\">43.4</div></td><td><div class=\"dni-plaintext\">14.4</div></td><td><div class=\"dni-plaintext\">218</div></td><td><div class=\"dni-plaintext\">4600</div></td><td>FEMALE</td></tr><tr><td>Gentoo</td><td>Biscoe</td><td><div class=\"dni-plaintext\">51.3</div></td><td><div class=\"dni-plaintext\">14.2</div></td><td><div class=\"dni-plaintext\">218</div></td><td><div class=\"dni-plaintext\">5300</div></td><td>MALE</td></tr><tr><td>Gentoo</td><td>Biscoe</td><td><div class=\"dni-plaintext\">52.1</div></td><td><div class=\"dni-plaintext\">17</div></td><td><div class=\"dni-plaintext\">230</div></td><td><div class=\"dni-plaintext\">5550</div></td><td>MALE</td></tr><tr><td>Gentoo</td><td>Biscoe</td><td><div class=\"dni-plaintext\">47.5</div></td><td><div class=\"dni-plaintext\">15</div></td><td><div class=\"dni-plaintext\">218</div></td><td><div class=\"dni-plaintext\">4950</div></td><td>FEMALE</td></tr><tr><td>Gentoo</td><td>Biscoe</td><td><div class=\"dni-plaintext\">45.5</div></td><td><div class=\"dni-plaintext\">14.5</div></td><td><div class=\"dni-plaintext\">212</div></td><td><div class=\"dni-plaintext\">4750</div></td><td>FEMALE</td></tr><tr><td>Gentoo</td><td>Biscoe</td><td><div class=\"dni-plaintext\">49.5</div></td><td><div class=\"dni-plaintext\">16.1</div></td><td><div class=\"dni-plaintext\">224</div></td><td><div class=\"dni-plaintext\">5650</div></td><td>MALE</td></tr><tr><td>Gentoo</td><td>Biscoe</td><td><div class=\"dni-plaintext\">44.5</div></td><td><div class=\"dni-plaintext\">14.7</div></td><td><div class=\"dni-plaintext\">214</div></td><td><div class=\"dni-plaintext\">4850</div></td><td>FEMALE</td></tr><tr><td>Gentoo</td><td>Biscoe</td><td><div class=\"dni-plaintext\">50.8</div></td><td><div class=\"dni-plaintext\">15.7</div></td><td><div class=\"dni-plaintext\">226</div></td><td><div class=\"dni-plaintext\">5200</div></td><td>MALE</td></tr><tr><td>Gentoo</td><td>Biscoe</td><td><div class=\"dni-plaintext\">49.4</div></td><td><div class=\"dni-plaintext\">15.8</div></td><td><div class=\"dni-plaintext\">216</div></td><td><div class=\"dni-plaintext\">4925</div></td><td>MALE</td></tr><tr><td>Gentoo</td><td>Biscoe</td><td><div class=\"dni-plaintext\">48.4</div></td><td><div class=\"dni-plaintext\">14.4</div></td><td><div class=\"dni-plaintext\">203</div></td><td><div class=\"dni-plaintext\">4625</div></td><td>FEMALE</td></tr><tr><td>Gentoo</td><td>Biscoe</td><td><div class=\"dni-plaintext\">48.5</div></td><td><div class=\"dni-plaintext\">15</div></td><td><div class=\"dni-plaintext\">219</div></td><td><div class=\"dni-plaintext\">4850</div></td><td>FEMALE</td></tr><tr><td>Gentoo</td><td>Biscoe</td><td><div class=\"dni-plaintext\">47.2</div></td><td><div class=\"dni-plaintext\">15.5</div></td><td><div class=\"dni-plaintext\">215</div></td><td><div class=\"dni-plaintext\">4975</div></td><td>FEMALE</td></tr><tr><td>Gentoo</td><td>Biscoe</td><td><div class=\"dni-plaintext\">49.1</div></td><td><div class=\"dni-plaintext\">15</div></td><td><div class=\"dni-plaintext\">228</div></td><td><div class=\"dni-plaintext\">5500</div></td><td>MALE</td></tr><tr><td>Gentoo</td><td>Biscoe</td><td><div class=\"dni-plaintext\">47.3</div></td><td><div class=\"dni-plaintext\">13.8</div></td><td><div class=\"dni-plaintext\">216</div></td><td><div class=\"dni-plaintext\">4725</div></td><td>NA</td></tr><tr><td>Gentoo</td><td>Biscoe</td><td><div class=\"dni-plaintext\">46.8</div></td><td><div class=\"dni-plaintext\">16.1</div></td><td><div class=\"dni-plaintext\">215</div></td><td><div class=\"dni-plaintext\">5500</div></td><td>MALE</td></tr><tr><td>Gentoo</td><td>Biscoe</td><td><div class=\"dni-plaintext\">41.7</div></td><td><div class=\"dni-plaintext\">14.7</div></td><td><div class=\"dni-plaintext\">210</div></td><td><div class=\"dni-plaintext\">4700</div></td><td>FEMALE</td></tr><tr><td>Gentoo</td><td>Biscoe</td><td><div class=\"dni-plaintext\">43.3</div></td><td><div class=\"dni-plaintext\">14</div></td><td><div class=\"dni-plaintext\">208</div></td><td><div class=\"dni-plaintext\">4575</div></td><td>FEMALE</td></tr><tr><td>Gentoo</td><td>Biscoe</td><td><div class=\"dni-plaintext\">48.1</div></td><td><div class=\"dni-plaintext\">15.1</div></td><td><div class=\"dni-plaintext\">209</div></td><td><div class=\"dni-plaintext\">5500</div></td><td>MALE</td></tr><tr><td>Gentoo</td><td>Biscoe</td><td><div class=\"dni-plaintext\">50.5</div></td><td><div class=\"dni-plaintext\">15.2</div></td><td><div class=\"dni-plaintext\">216</div></td><td><div class=\"dni-plaintext\">5000</div></td><td>FEMALE</td></tr><tr><td>Gentoo</td><td>Biscoe</td><td><div class=\"dni-plaintext\">49.8</div></td><td><div class=\"dni-plaintext\">15.9</div></td><td><div class=\"dni-plaintext\">229</div></td><td><div class=\"dni-plaintext\">5950</div></td><td>MALE</td></tr><tr><td>Gentoo</td><td>Biscoe</td><td><div class=\"dni-plaintext\">46.2</div></td><td><div class=\"dni-plaintext\">14.1</div></td><td><div class=\"dni-plaintext\">217</div></td><td><div class=\"dni-plaintext\">4375</div></td><td>FEMALE</td></tr><tr><td>Gentoo</td><td>Biscoe</td><td><div class=\"dni-plaintext\">55.1</div></td><td><div class=\"dni-plaintext\">16</div></td><td><div class=\"dni-plaintext\">230</div></td><td><div class=\"dni-plaintext\">5850</div></td><td>MALE</td></tr><tr><td>Gentoo</td><td>Biscoe</td><td><div class=\"dni-plaintext\">44.5</div></td><td><div class=\"dni-plaintext\">15.7</div></td><td><div class=\"dni-plaintext\">217</div></td><td><div class=\"dni-plaintext\">4875</div></td><td>.</td></tr><tr><td>Gentoo</td><td>Biscoe</td><td><div class=\"dni-plaintext\">48.8</div></td><td><div class=\"dni-plaintext\">16.2</div></td><td><div class=\"dni-plaintext\">222</div></td><td><div class=\"dni-plaintext\">6000</div></td><td>MALE</td></tr><tr><td>Gentoo</td><td>Biscoe</td><td><div class=\"dni-plaintext\">NaN</div></td><td><div class=\"dni-plaintext\">NaN</div></td><td><div class=\"dni-plaintext\">NaN</div></td><td><div class=\"dni-plaintext\">NaN</div></td><td>NA</td></tr><tr><td>Gentoo</td><td>Biscoe</td><td><div class=\"dni-plaintext\">46.8</div></td><td><div class=\"dni-plaintext\">14.3</div></td><td><div class=\"dni-plaintext\">215</div></td><td><div class=\"dni-plaintext\">4850</div></td><td>FEMALE</td></tr><tr><td>Gentoo</td><td>Biscoe</td><td><div class=\"dni-plaintext\">50.4</div></td><td><div class=\"dni-plaintext\">15.7</div></td><td><div class=\"dni-plaintext\">222</div></td><td><div class=\"dni-plaintext\">5750</div></td><td>MALE</td></tr><tr><td>Gentoo</td><td>Biscoe</td><td><div class=\"dni-plaintext\">45.2</div></td><td><div class=\"dni-plaintext\">14.8</div></td><td><div class=\"dni-plaintext\">212</div></td><td><div class=\"dni-plaintext\">5200</div></td><td>FEMALE</td></tr></tbody></table>"
      ]
     },
     "metadata": {},
     "output_type": "display_data"
    }
   ],
   "source": [
    "dataSplit.TrainSet.ToTabularDataResource()"
   ]
  },
  {
   "cell_type": "markdown",
   "metadata": {},
   "source": [
    "Train the Model"
   ]
  },
  {
   "cell_type": "code",
   "execution_count": null,
   "metadata": {
    "dotnet_interactive": {
     "language": "csharp"
    },
    "vscode": {
     "languageId": "dotnet-interactive.csharp"
    }
   },
   "outputs": [],
   "source": [
    "var model = mlContext.MulticlassClassification.Trainers.SdcaNonCalibrated(labelColumnName: \"Label\", featureColumnName: \"Features\");\n",
    "\n"
   ]
  },
  {
   "cell_type": "markdown",
   "metadata": {},
   "source": [
    "Evaluate the Model"
   ]
  },
  {
   "cell_type": "markdown",
   "metadata": {},
   "source": [
    "Save The Model"
   ]
  },
  {
   "cell_type": "markdown",
   "metadata": {},
   "source": [
    "Load The Model And Predict"
   ]
  },
  {
   "cell_type": "markdown",
   "metadata": {},
   "source": []
  }
 ],
 "metadata": {
  "kernelspec": {
   "display_name": ".NET (C#)",
   "language": "C#",
   "name": ".net-csharp"
  },
  "language_info": {
   "file_extension": ".cs",
   "mimetype": "text/x-csharp",
   "name": "C#",
   "pygments_lexer": "csharp",
   "version": "9.0"
  },
  "orig_nbformat": 4
 },
 "nbformat": 4,
 "nbformat_minor": 2
}
