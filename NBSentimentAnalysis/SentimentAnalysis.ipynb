{
 "cells": [
  {
   "cell_type": "markdown",
   "metadata": {},
   "source": [
    "Add Packages"
   ]
  },
  {
   "cell_type": "code",
   "execution_count": null,
   "metadata": {
    "dotnet_interactive": {
     "language": "csharp"
    },
    "vscode": {
     "languageId": "dotnet-interactive.csharp"
    }
   },
   "outputs": [
    {
     "data": {
      "text/html": [
       "<div><div></div><div></div><div><strong>Installed Packages</strong><ul><li><span>Microsoft.Data.Analysis, 0.20.0-preview.22313.1</span></li><li><span>Microsoft.DotNet.Interactive.ExtensionLab, 1.0.0-beta.22405.1</span></li><li><span>Microsoft.ML, 2.0.0-preview.22313.1</span></li><li><span>Microsoft.ML.Recommender, 0.20.0-preview.22313.1</span></li></ul></div></div>"
      ]
     },
     "metadata": {},
     "output_type": "display_data"
    },
    {
     "data": {
      "text/markdown": [
       "Loading extensions from `Microsoft.Data.Analysis.Interactive.dll`"
      ]
     },
     "metadata": {},
     "output_type": "display_data"
    },
    {
     "data": {
      "text/markdown": [
       "Loading extensions from `Microsoft.DotNet.Interactive.ExtensionLab.dll`"
      ]
     },
     "metadata": {},
     "output_type": "display_data"
    },
    {
     "data": {
      "text/html": [
       "<details><summary>Create strongly-typed dataframes using<code>#!linqify</code>.</summary>\r\n",
       "    <p>The <code>#!linqify</code> magic command replaces a <a href=\"https://www.nuget.org/packages/Microsoft.Data.Analysis/\"><code>Microsoft.Data.Analysis.DataFrame</code></a> variable with a generated, strongly-typed data frame, allowing the use of LINQ operations over the contained data.</p>\r\n",
       "    </details>"
      ]
     },
     "metadata": {},
     "output_type": "display_data"
    },
    {
     "data": {
      "text/html": [
       "<details><summary>ExplainCode</summary>\r\n",
       "    <p>This extension generates Sequence diagrams from csharp code using Mermaid kernel.</p>\r\n",
       "    </details>"
      ]
     },
     "metadata": {},
     "output_type": "display_data"
    },
    {
     "data": {
      "text/html": [
       "<details><summary>Inspect code compilation details using the <code>#!inspect</code> magic command.</summary>\r\n",
       "    <p>The <code>#!inspect</code> magic command allows you to see the C# decompilation, IL, and JIT Asm for the code in a C# cell.</p>\r\n",
       "    <img src=\"https://user-images.githubusercontent.com/547415/109560515-d5749a00-7a90-11eb-9fa3-51b737345bb4.png\" width=\"75%\" />\r\n",
       "    </details>"
      ]
     },
     "metadata": {},
     "output_type": "display_data"
    },
    {
     "data": {
      "text/html": [
       "<details><summary>Use the <code>#!record</code> magic command to keep a transcript of the code you run.</summary>\r\n",
       "    <p>Once you enable transcripts using <code>#!record</code>, each code submission (including re-running cells) is recorded in the specified file. The JSON format used is the same format recognized by the .NET Interactive <code>stdio</code> and <code>http</code> APIs and can be used to replay an interactive session via automation.</p>\r\n",
       "    <img src=\"https://user-images.githubusercontent.com/547415/109562409-343b1300-7a93-11eb-8ebf-79bb6af028cf.png\" width=\"75%\" />\r\n",
       "    </details>"
      ]
     },
     "metadata": {},
     "output_type": "display_data"
    },
    {
     "data": {
      "text/html": [
       "<details><summary>Query SQLite databases.</summary>\r\n",
       "    <p>This extension adds support for connecting to SQLite databases using the <code>#!connect sqlite</code> magic command. For more information, run a cell using the <code>#!sql</code> magic command.</p>\r\n",
       "    </details>"
      ]
     },
     "metadata": {},
     "output_type": "display_data"
    }
   ],
   "source": [
    "#r \"nuget:Microsoft.ML, *-*\"\n",
    "#r \"nuget:Microsoft.ML.Recommender, *-*\"\n",
    "#r \"nuget:Microsoft.Data.Analysis, *-*\"\n",
    "#r \"nuget:Microsoft.DotNet.Interactive.ExtensionLab, *-*\""
   ]
  },
  {
   "cell_type": "code",
   "execution_count": null,
   "metadata": {
    "dotnet_interactive": {
     "language": "csharp"
    },
    "vscode": {
     "languageId": "dotnet-interactive.csharp"
    }
   },
   "outputs": [],
   "source": [
    "using Microsoft.ML;\n",
    "using Microsoft.ML.Data;\n",
    "using Microsoft.Data.Analysis;\n",
    "using Microsoft.ML.Trainers.Recommender;\n",
    "\n",
    "using System.IO;\n",
    "using System.Text;"
   ]
  },
  {
   "cell_type": "markdown",
   "metadata": {},
   "source": [
    "Data Models"
   ]
  },
  {
   "cell_type": "code",
   "execution_count": null,
   "metadata": {
    "dotnet_interactive": {
     "language": "csharp"
    },
    "vscode": {
     "languageId": "dotnet-interactive.csharp"
    }
   },
   "outputs": [],
   "source": [
    "public class SentimentData\n",
    "{\n",
    "    [LoadColumn(0)]\n",
    "    public string SentimentText;\n",
    "\n",
    "    [LoadColumn(1), ColumnName(\"Label\")]\n",
    "    public bool Sentiment;\n",
    "}\n",
    "\n",
    "public class SentimentPrediction : SentimentData\n",
    "{\n",
    "    [ColumnName(\"Predicted Label\")]\n",
    "    public bool Prediction { get; set; }\n",
    "\n",
    "    [ColumnName(\"Probability\")]\n",
    "    public float Probability {get; set; }\n",
    "\n",
    "    public float Score { get; set; }\n",
    "}"
   ]
  },
  {
   "cell_type": "markdown",
   "metadata": {},
   "source": [
    "Load And Split Data"
   ]
  },
  {
   "cell_type": "code",
   "execution_count": null,
   "metadata": {
    "dotnet_interactive": {
     "language": "csharp"
    },
    "vscode": {
     "languageId": "dotnet-interactive.csharp"
    }
   },
   "outputs": [],
   "source": [
    "var mlContext = new MLContext();\n",
    "var data = mlContext.Data.LoadFromTextFile<SentimentData>(\"./Data/imdb_labelled.txt\", hasHeader: false);\n",
    "\n",
    "// Split data into testing and training data\n",
    "var dataSplit = mlContext.Data.TrainTestSplit(data, testFraction: 0.3);"
   ]
  },
  {
   "cell_type": "markdown",
   "metadata": {},
   "source": [
    "Train The Model"
   ]
  },
  {
   "cell_type": "code",
   "execution_count": null,
   "metadata": {
    "dotnet_interactive": {
     "language": "csharp"
    },
    "vscode": {
     "languageId": "dotnet-interactive.csharp"
    }
   },
   "outputs": [],
   "source": [
    "var pipeline = mlContext.Transforms.Text.FeaturizeText(outputColumnName: \"Features\", inputColumnName: nameof(SentimentData.SentimentText));\n",
    "var model = mlContext.BinaryClassification.Trainers.SdcaLogisticRegression(labelColumnName: \"Label\", featureColumnName: \"Features\");\n",
    "\n",
    "var trainingPipeline = pipeline.Append(model);\n",
    "var trainedModel = trainingPipeline.Fit(dataSplit.TrainSet);"
   ]
  },
  {
   "cell_type": "markdown",
   "metadata": {},
   "source": [
    "Evaluate The Model"
   ]
  },
  {
   "cell_type": "code",
   "execution_count": null,
   "metadata": {
    "dotnet_interactive": {
     "language": "csharp"
    },
    "vscode": {
     "languageId": "dotnet-interactive.csharp"
    }
   },
   "outputs": [],
   "source": [
    "var eval = trainedModel.Transform(dataSplit.TestSet);\n",
    "var metrics = mlContext.BinaryClassification.Evaluate(eval);"
   ]
  },
  {
   "cell_type": "code",
   "execution_count": null,
   "metadata": {
    "dotnet_interactive": {
     "language": "csharp"
    },
    "vscode": {
     "languageId": "dotnet-interactive.csharp"
    }
   },
   "outputs": [
    {
     "data": {
      "text/html": [
       "<table><thead><tr><th>LogLoss</th><th>LogLossReduction</th><th>Entropy</th><th>AreaUnderRocCurve</th><th>Accuracy</th><th>PositivePrecision</th><th>PositiveRecall</th><th>NegativePrecision</th><th>NegativeRecall</th><th>F1Score</th><th>AreaUnderPrecisionRecallCurve</th><th>ConfusionMatrix</th></tr></thead><tbody><tr><td><div class=\"dni-plaintext\">0.8240216438011468</div></td><td><div class=\"dni-plaintext\">0.17358204203740696</div></td><td><div class=\"dni-plaintext\">0.9971003604914952</div></td><td><div class=\"dni-plaintext\">0.8182044515261664</div></td><td><div class=\"dni-plaintext\">0.7394366197183099</div></td><td><div class=\"dni-plaintext\">0.7153284671532847</div></td><td><div class=\"dni-plaintext\">0.7368421052631579</div></td><td><div class=\"dni-plaintext\">0.7619047619047619</div></td><td><div class=\"dni-plaintext\">0.7417218543046358</div></td><td><div class=\"dni-plaintext\">0.7259259259259261</div></td><td><div class=\"dni-plaintext\">0.818909158207526</div></td><td><div class=\"dni-plaintext\">{ Microsoft.ML.Data.ConfusionMatrix: PerClassPrecision: [ 0.7153284671532847, 0.7619047619047619 ], PerClassRecall: [ 0.7368421052631579, 0.7417218543046358 ], Counts: [ [ 98, 35 ], [ 39, 112 ] ], NumberOfClasses: 2 }</div></td></tr></tbody></table>"
      ]
     },
     "metadata": {},
     "output_type": "display_data"
    }
   ],
   "source": [
    "metrics"
   ]
  },
  {
   "cell_type": "markdown",
   "metadata": {},
   "source": [
    "Save The Model"
   ]
  },
  {
   "cell_type": "code",
   "execution_count": null,
   "metadata": {
    "dotnet_interactive": {
     "language": "csharp"
    },
    "vscode": {
     "languageId": "dotnet-interactive.csharp"
    }
   },
   "outputs": [],
   "source": [
    "mlContext.Model.Save(trainedModel, dataSplit.TrainSet.Schema, \"./Sentiment.mdl\");"
   ]
  },
  {
   "cell_type": "markdown",
   "metadata": {},
   "source": [
    "Load The Model And Predict"
   ]
  },
  {
   "cell_type": "code",
   "execution_count": null,
   "metadata": {
    "dotnet_interactive": {
     "language": "csharp"
    },
    "vscode": {
     "languageId": "dotnet-interactive.csharp"
    }
   },
   "outputs": [
    {
     "name": "stdout",
     "output_type": "stream",
     "text": [
      "False\r\n"
     ]
    }
   ],
   "source": [
    "using (var stream = new FileStream(\"./Sentiment.mdl\", FileMode.Open, FileAccess.Read, FileShare.Read))\n",
    "{\n",
    "    var loadedModel = mlContext.Model.Load(stream, out _);\n",
    "    var predictionEngine = mlContext.Model.CreatePredictionEngine<SentimentData, SentimentPrediction>(loadedModel);\n",
    "\n",
    "    var newSample = new SentimentData\n",
    "    {\n",
    "        SentimentText = \"This is good\"\n",
    "    };\n",
    "\n",
    "    var sentiment = predictionEngine.Predict(newSample);\n",
    "    Console.WriteLine(sentiment.Prediction);\n",
    "}"
   ]
  },
  {
   "cell_type": "code",
   "execution_count": null,
   "metadata": {
    "dotnet_interactive": {
     "language": "csharp"
    },
    "vscode": {
     "languageId": "dotnet-interactive.csharp"
    }
   },
   "outputs": [],
   "source": []
  }
 ],
 "metadata": {
  "kernelspec": {
   "display_name": ".NET (C#)",
   "language": "C#",
   "name": ".net-csharp"
  },
  "language_info": {
   "file_extension": ".cs",
   "mimetype": "text/x-csharp",
   "name": "C#",
   "pygments_lexer": "csharp",
   "version": "9.0"
  },
  "orig_nbformat": 4,
  "vscode": {
   "interpreter": {
    "hash": "369f2c481f4da34e4445cda3fffd2e751bd1c4d706f27375911949ba6bb62e1c"
   }
  }
 },
 "nbformat": 4,
 "nbformat_minor": 2
}
